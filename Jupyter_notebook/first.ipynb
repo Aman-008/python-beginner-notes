{
 "cells": [
  {
   "cell_type": "code",
   "execution_count": 48,
   "metadata": {},
   "outputs": [
    {
     "name": "stdout",
     "output_type": "stream",
     "text": [
      "NAMASTE\n"
     ]
    }
   ],
   "source": [
    "print(\"NAMASTE\")"
   ]
  },
  {
   "cell_type": "code",
   "execution_count": 49,
   "metadata": {},
   "outputs": [
    {
     "name": "stdout",
     "output_type": "stream",
     "text": [
      "<class 'str'>\n"
     ]
    }
   ],
   "source": [
    "# type()\n",
    "b = \"World\"\n",
    "print(type(b))"
   ]
  },
  {
   "cell_type": "code",
   "execution_count": 50,
   "metadata": {},
   "outputs": [
    {
     "name": "stdout",
     "output_type": "stream",
     "text": [
      "<class 'float'>\n"
     ]
    }
   ],
   "source": [
    "# type()\n",
    "c = 10.5\n",
    "print(type(c))"
   ]
  },
  {
   "cell_type": "code",
   "execution_count": 51,
   "metadata": {},
   "outputs": [
    {
     "name": "stdout",
     "output_type": "stream",
     "text": [
      "<class 'int'>\n"
     ]
    }
   ],
   "source": [
    "# type ()\n",
    "a = 10\n",
    "print(type(a))"
   ]
  },
  {
   "cell_type": "markdown",
   "metadata": {},
   "source": [
    "# Using Input"
   ]
  },
  {
   "cell_type": "code",
   "execution_count": 52,
   "metadata": {},
   "outputs": [
    {
     "name": "stdout",
     "output_type": "stream",
     "text": [
      "A :  jii\n"
     ]
    }
   ],
   "source": [
    "a = input(\"Enter the value of a\")\n",
    "print(\"A : \", a)"
   ]
  },
  {
   "cell_type": "markdown",
   "metadata": {},
   "source": [
    "# Comments"
   ]
  },
  {
   "cell_type": "code",
   "execution_count": 53,
   "metadata": {},
   "outputs": [],
   "source": [
    "#single line comments\n",
    "\n",
    "# we can type anything in comments\n",
    "# This is  a single line comments\n",
    "# we can always use (#) symbol in single line comments\n"
   ]
  },
  {
   "cell_type": "code",
   "execution_count": 3,
   "metadata": {},
   "outputs": [
    {
     "data": {
      "text/plain": [
       "'This is a multiline comments in\\npython'"
      ]
     },
     "execution_count": 3,
     "metadata": {},
     "output_type": "execute_result"
    }
   ],
   "source": [
    "# multiline comments\n",
    "\n",
    "'''This is a multiline comments in\n",
    "python'''"
   ]
  },
  {
   "cell_type": "markdown",
   "metadata": {},
   "source": [
    "# docstring comment"
   ]
  },
  {
   "cell_type": "markdown",
   "metadata": {},
   "source": [
    "# Error In Python"
   ]
  },
  {
   "cell_type": "markdown",
   "metadata": {},
   "source": [
    "There are 3 types of error in python\n",
    "1. Syntax Error\n",
    "2. Logical Error\n",
    "3. Runtime Error"
   ]
  },
  {
   "cell_type": "markdown",
   "metadata": {},
   "source": [
    "# 1. Syntax Error "
   ]
  },
  {
   "cell_type": "markdown",
   "metadata": {},
   "source": [
    "The Python SyntaxError occurs when the interpreter encounters invalid syntax in code"
   ]
  },
  {
   "cell_type": "markdown",
   "metadata": {},
   "source": [
    "# 2. Logical Error"
   ]
  },
  {
   "cell_type": "markdown",
   "metadata": {},
   "source": [
    "A logical error occurs in Python when the code runs without any syntax or runtime errors but produces incorrect results due to flawed logic in the code"
   ]
  },
  {
   "cell_type": "markdown",
   "metadata": {},
   "source": [
    "# 3. Runtime Error"
   ]
  },
  {
   "cell_type": "markdown",
   "metadata": {},
   "source": [
    "A runtime error in a program is an error that occurs while the program is running after being successfully compiled."
   ]
  },
  {
   "cell_type": "markdown",
   "metadata": {},
   "source": [
    "# KeyWords"
   ]
  },
  {
   "cell_type": "code",
   "execution_count": 55,
   "metadata": {},
   "outputs": [
    {
     "name": "stdout",
     "output_type": "stream",
     "text": [
      "\n",
      "Here is a list of the Python keywords.  Enter any keyword to get more help.\n",
      "\n",
      "False               class               from                or\n",
      "None                continue            global              pass\n",
      "True                def                 if                  raise\n",
      "and                 del                 import              return\n",
      "as                  elif                in                  try\n",
      "assert              else                is                  while\n",
      "async               except              lambda              with\n",
      "await               finally             nonlocal            yield\n",
      "break               for                 not                 \n",
      "\n"
     ]
    }
   ],
   "source": [
    "help(\"keywords\")"
   ]
  },
  {
   "cell_type": "markdown",
   "metadata": {},
   "source": [
    "# DataTypes"
   ]
  },
  {
   "cell_type": "markdown",
   "metadata": {},
   "source": [
    "1. Data types are used before the veriable, to know which type of values  are stored in veriable.\n",
    "2. Data types are actually classes and veriables are instence (objects) of these classes"
   ]
  },
  {
   "cell_type": "markdown",
   "metadata": {},
   "source": [
    "1. Numeric - integer, float, complex number\n",
    "2. Boolean - True, False\n",
    "3. Set\n",
    "4. Dictionary \n",
    "5. Sequence - List, Tuple, String"
   ]
  },
  {
   "cell_type": "code",
   "execution_count": 56,
   "metadata": {},
   "outputs": [
    {
     "name": "stdout",
     "output_type": "stream",
     "text": [
      "<class 'int'>\n",
      "<class 'float'>\n",
      "<class 'complex'>\n"
     ]
    }
   ],
   "source": [
    "# int DataType\n",
    "a = 10\n",
    "print(type(a))\n",
    "\n",
    "# float DataType\n",
    "b = 10.5\n",
    "print(type(b))\n",
    "\n",
    "# complex DataType\n",
    "c = 2 + 4j\n",
    "print(type(c))"
   ]
  },
  {
   "cell_type": "markdown",
   "metadata": {},
   "source": [
    "# Boolean"
   ]
  },
  {
   "cell_type": "code",
   "execution_count": 57,
   "metadata": {},
   "outputs": [
    {
     "name": "stdout",
     "output_type": "stream",
     "text": [
      "<class 'bool'>\n",
      "<class 'bool'>\n"
     ]
    }
   ],
   "source": [
    "d = True\n",
    "print(type(d))\n",
    "\n",
    "e = False\n",
    "print(type(e))"
   ]
  },
  {
   "cell_type": "markdown",
   "metadata": {},
   "source": [
    "# Set DataType"
   ]
  },
  {
   "cell_type": "markdown",
   "metadata": {},
   "source": [
    "1. Sets are used to store multiple items in a single variable.\n",
    "2. A set is a collection which is unordered, unchangeable*, and unindexed."
   ]
  },
  {
   "cell_type": "code",
   "execution_count": 58,
   "metadata": {},
   "outputs": [
    {
     "name": "stdout",
     "output_type": "stream",
     "text": [
      "<class 'set'>\n"
     ]
    }
   ],
   "source": [
    "f = {'a', 'b', 'c'}\n",
    "print(type(f))"
   ]
  },
  {
   "cell_type": "markdown",
   "metadata": {},
   "source": [
    "# Dictionary DataType"
   ]
  },
  {
   "cell_type": "code",
   "execution_count": 59,
   "metadata": {},
   "outputs": [
    {
     "name": "stdout",
     "output_type": "stream",
     "text": [
      "<class 'dict'>\n"
     ]
    }
   ],
   "source": [
    "x = {\"Key\":\"Value\"}\n",
    "print(type(x))"
   ]
  },
  {
   "cell_type": "markdown",
   "metadata": {},
   "source": [
    "# Sequence DataType"
   ]
  },
  {
   "cell_type": "code",
   "execution_count": 60,
   "metadata": {},
   "outputs": [
    {
     "name": "stdout",
     "output_type": "stream",
     "text": [
      "<class 'list'>\n",
      "<class 'str'>\n",
      "<class 'tuple'>\n"
     ]
    }
   ],
   "source": [
    "# List DataType\n",
    "l1 = [1,2,3,4,5]\n",
    "print(type(l1))\n",
    "\n",
    "# String DataType\n",
    "y = \"Python Program\"\n",
    "print(type(y))\n",
    "\n",
    "# Tuple DataType\n",
    "z = (1,2,3,4,5)\n",
    "print(type(z))"
   ]
  },
  {
   "cell_type": "markdown",
   "metadata": {},
   "source": [
    "# Variable"
   ]
  },
  {
   "cell_type": "markdown",
   "metadata": {},
   "source": [
    "1. Variable are names to store the value\n",
    "2. Rules of Variable\n",
    "    1. variable should start with alphabets only\n",
    "    2. variable name should not have whitespace\n",
    "    3. we cannot use dataType name as a variable name\n",
    "    4. variable name are significant"
   ]
  },
  {
   "cell_type": "code",
   "execution_count": 61,
   "metadata": {},
   "outputs": [
    {
     "name": "stdout",
     "output_type": "stream",
     "text": [
      "10\n",
      "<class 'int'>\n",
      "10.5\n",
      "<class 'float'>\n",
      "python\n",
      "<class 'str'>\n",
      "[1, 2, 3, 4, 5]\n",
      "<class 'list'>\n",
      "(1, 2, 3, 4, 5)\n",
      "<class 'tuple'>\n"
     ]
    }
   ],
   "source": [
    "# int value to the variable\n",
    "a = 10\n",
    "print(a)\n",
    "print(type(a))\n",
    "\n",
    "# float value to the variable\n",
    "b = 10.5\n",
    "print(b)\n",
    "print(type(b))\n",
    "\n",
    "# string value to the variable\n",
    "c = \"python\"\n",
    "print(c)\n",
    "print(type(c))\n",
    "\n",
    "# list store ub the variable\n",
    "l1 = [1,2,3,4,5]\n",
    "print(l1)\n",
    "print(type(l1))\n",
    "\n",
    "\n",
    "# tuple store in the variable\n",
    "t1 = (1,2,3,4,5)\n",
    "print(t1)\n",
    "print(type(t1))\n"
   ]
  },
  {
   "cell_type": "markdown",
   "metadata": {},
   "source": [
    "# Annotating variables by type"
   ]
  },
  {
   "cell_type": "markdown",
   "metadata": {},
   "source": [
    "Type annotation allows you to clearly communicate the argument types and return type of functions in your code. It’s like giving yourself and other developers hints about what kind of data the variable is supposed to hold. This has several benefits: It reduces the chance of common mistakes, helps in documenting your code for others to reuse, and allows integrated development software (IDEs) and other tools to give you better feedback."
   ]
  },
  {
   "cell_type": "code",
   "execution_count": 62,
   "metadata": {},
   "outputs": [],
   "source": [
    "# String\n",
    "name: str =\"Betty\""
   ]
  },
  {
   "cell_type": "code",
   "execution_count": 63,
   "metadata": {},
   "outputs": [],
   "source": [
    "# integer\n",
    "age : int = 35"
   ]
  },
  {
   "cell_type": "markdown",
   "metadata": {},
   "source": [
    "# Variables Annotated by Type"
   ]
  },
  {
   "cell_type": "markdown",
   "metadata": {},
   "source": [
    "Type annotations are optional in Python. They can be very helpful, though, because they make code easier to read. Annotations make the variable types clear to those reading the code. They can also help you catch errors during compilation. In the example below, we are using the typing module to annotate the different types of variables."
   ]
  },
  {
   "cell_type": "code",
   "execution_count": 64,
   "metadata": {},
   "outputs": [],
   "source": [
    "import typing\n",
    "# Define a variable of type str\n",
    "z: str = \"Hello, world!\"\n",
    "# Define a variable of type int\n",
    "x: int = 10\n",
    "# Define a variable of type float\n",
    "y: float = 1.23\n",
    "# Define a variable of type list\n",
    "list_of_numbers: typing.List[int] = [1, 2, 3]\n",
    "# Define a variable of type tuple\n",
    "tuple_of_numbers: typing.Tuple[int, int, int] = (1, 2, 3)\n",
    "# Define a variable of type dict\n",
    "dictionary: typing.Dict[str, int] = {\"key1\": 1, \"key2\": 2}\n",
    "# Define a variable of type set\n",
    "set_of_numbers: typing.Set[int] = {1, 2, 3}"
   ]
  },
  {
   "cell_type": "markdown",
   "metadata": {},
   "source": [
    "# Skill Group 1"
   ]
  },
  {
   "cell_type": "markdown",
   "metadata": {},
   "source": [
    "1. Use variables to store values\n",
    "2. Use basic arithmetic operators with variables to create expressions\n",
    "3. Use explicit conversion to change a data type from float to string\n"
   ]
  },
  {
   "cell_type": "code",
   "execution_count": 65,
   "metadata": {},
   "outputs": [
    {
     "name": "stdout",
     "output_type": "stream",
     "text": [
      "Each person needs to pay: 27.0\n"
     ]
    }
   ],
   "source": [
    "# The following lines assign the variable to the left of the =\n",
    "# assignment operator with the values and arithmetic expressions\n",
    "# on the right side of the = assignment operator.\n",
    "hotel_room = 100\n",
    "tax = hotel_room * 0.08\n",
    "total = hotel_room + tax\n",
    "room_guests = 4\n",
    "share_per_person = total/room_guests\n",
    "\n",
    "\n",
    "# This line outputs the result of the final calculation stored\n",
    "# in the variable \"share_per_person\"\n",
    "print(\"Each person needs to pay: \" + str(share_per_person)) # change a data type"
   ]
  },
  {
   "cell_type": "markdown",
   "metadata": {},
   "source": [
    "# Skill Group 2"
   ]
  },
  {
   "cell_type": "markdown",
   "metadata": {},
   "source": [
    "1. Output multiple string variables on a single line to form a sentence\n",
    "2. Use the plus (+) connector or a comma to connect strings in a print() function\n",
    "3. Create spaces between variables in  a print() function"
   ]
  },
  {
   "cell_type": "code",
   "execution_count": 66,
   "metadata": {},
   "outputs": [
    {
     "name": "stdout",
     "output_type": "stream",
     "text": [
      "Dr. Prisha Jai Agarwal, Ph.D.\n",
      "Dr. Prisha Jai Agarwal , Ph.D.\n"
     ]
    }
   ],
   "source": [
    "# The following 5 lines assign strings to a list of variables.\n",
    "salutation = \"Dr.\"\n",
    "first_name = \"Prisha\"\n",
    "middle_name = \"Jai\"\n",
    "last_name = \"Agarwal\"\n",
    "suffix = \"Ph.D.\"\n",
    "\n",
    "print(salutation + \" \" + first_name + \" \" + middle_name + \" \" + last_name + \", \" + suffix)\n",
    "# The comma as a string \", \" adds the conventional use of a comma plus a\n",
    "# space to separate the last name from the suffix.\n",
    "\n",
    "# Alternatively, you could use commas in place of the + connector:\n",
    "print(salutation, first_name, middle_name, last_name,\",\", suffix)\n",
    "# However, you will find that this produces a space before a comma within a string."
   ]
  },
  {
   "cell_type": "markdown",
   "metadata": {},
   "source": [
    "# Skill Group 3"
   ]
  },
  {
   "cell_type": "markdown",
   "metadata": {},
   "source": [
    "1. Resolve TypeError caused by a data type mismatch issue\n",
    "2. Use an explicit conversion function"
   ]
  },
  {
   "cell_type": "code",
   "execution_count": 67,
   "metadata": {},
   "outputs": [
    {
     "name": "stdout",
     "output_type": "stream",
     "text": [
      "5 * 3 = 15\n"
     ]
    }
   ],
   "source": [
    "# The following code causes a type error between a string\n",
    "# and an integer:\n",
    "\n",
    "print(\"5 * 3 = \" + str(5*3))\n",
    "\n",
    "\n",
    "# Resolution:\n",
    "# print(\"5 * 3 = \" + str(5*3))\n",
    "#\n",
    "# To avoid a type error between the string and the integer within the\n",
    "# print() function, you can make an explicit data type conversion by\n",
    "# using the str() function to convert the integer to a string."
   ]
  },
  {
   "cell_type": "markdown",
   "metadata": {},
   "source": [
    "# Skill Group 4"
   ]
  },
  {
   "cell_type": "markdown",
   "metadata": {},
   "source": [
    "1. Resolve a ZeroDivisionError caused by an attempt to divide by 0"
   ]
  },
  {
   "cell_type": "code",
   "execution_count": 68,
   "metadata": {},
   "outputs": [
    {
     "name": "stdout",
     "output_type": "stream",
     "text": [
      "7.0\n"
     ]
    }
   ],
   "source": [
    "numerator = 7\n",
    "denominator = 1   # Possible resolution: Change the denominator value\n",
    "result = numerator / denominator\n",
    "print(result)\n",
    "\n",
    "\n",
    "# One possible assumption for a number divided by zero error might\n",
    "# include the issue of a null value as a denominator (could happen when\n",
    "# using a loop to iterate over values in a database). In such cases, the\n",
    "# desired outcome may be to leave the numerator value intact. The\n",
    "# numerator value can be preserved by reassigning the denominator with\n",
    "# the integer value of 1. The result would then equal the numerator."
   ]
  },
  {
   "cell_type": "markdown",
   "metadata": {},
   "source": [
    "# TypeConversion/TypeCasting"
   ]
  },
  {
   "cell_type": "code",
   "execution_count": 2,
   "metadata": {},
   "outputs": [
    {
     "name": "stdout",
     "output_type": "stream",
     "text": [
      "A :  5\n",
      "<class 'int'>\n"
     ]
    }
   ],
   "source": [
    "# converting from one datatype to another datatype called\n",
    "# typeCoversion / typeCasting\n",
    "\n",
    "a = int(input(\"Enter the value of A : \")) #default type is string\n",
    "print(\"A : \", a)\n",
    "print(type(a))\n"
   ]
  },
  {
   "cell_type": "markdown",
   "metadata": {},
   "source": [
    "# Operators"
   ]
  },
  {
   "cell_type": "markdown",
   "metadata": {},
   "source": [
    "1. Operators are used to perform operations on variables and values in python\n",
    "2. Type of Operators :\n",
    "    1. Arithmetic Operators (+, -, *, /, %(modules), ++(increment), --(decrement))\n",
    "    2. Assignment Operators (=, +=, -=, *=, /=, %=, <<=, >>=, >>>=, &=, ^=, |=)\n",
    "    3. Comparsion Operators (>, <, <=, >=, ==, !=, ===(Equal value and same type), !===(Not equal value and not same type))\n",
    "    4. Logical Operators (And, Or, Not)\n",
    "    5. Identity Operators (Is(return true if both variable are same object), Is Not(return true if both variable are not same object))\n",
    "    6. Membership Operators (In (Return true if a sequence with the specified value is present in the object), Not In (Return true if a sequence with the specified value is not present in the object))\n"
   ]
  },
  {
   "cell_type": "markdown",
   "metadata": {},
   "source": [
    "# Arithmetic Operators\n"
   ]
  },
  {
   "cell_type": "code",
   "execution_count": null,
   "metadata": {},
   "outputs": [
    {
     "name": "stdout",
     "output_type": "stream",
     "text": [
      "Answer :  15\n"
     ]
    }
   ],
   "source": [
    "# Addition Operators\n",
    "x = 5\n",
    "y = 10\n",
    "z = x+y\n",
    "print(\"Answer : \", z )"
   ]
  },
  {
   "cell_type": "code",
   "execution_count": null,
   "metadata": {},
   "outputs": [
    {
     "name": "stdout",
     "output_type": "stream",
     "text": [
      "Subtract :  5\n"
     ]
    }
   ],
   "source": [
    "# Substraction Operators\n",
    "x = 10\n",
    "y = 5\n",
    "z = x-y\n",
    "print(\"Subtract : \", z)"
   ]
  },
  {
   "cell_type": "code",
   "execution_count": null,
   "metadata": {},
   "outputs": [
    {
     "name": "stdout",
     "output_type": "stream",
     "text": [
      "Answer :  40\n"
     ]
    }
   ],
   "source": [
    "# Multiplication Operator\n",
    "x = 10\n",
    "y = 4\n",
    "z = x*y\n",
    "print(\"Answer : \", z)"
   ]
  },
  {
   "cell_type": "code",
   "execution_count": null,
   "metadata": {},
   "outputs": [
    {
     "name": "stdout",
     "output_type": "stream",
     "text": [
      "Answer :  4\n"
     ]
    }
   ],
   "source": [
    "# Devision Operator\n",
    "x = 20\n",
    "y = 5\n",
    "z = int(x/y) # default value is float\n",
    "print(\"Answer : \", z)"
   ]
  },
  {
   "cell_type": "code",
   "execution_count": null,
   "metadata": {},
   "outputs": [
    {
     "name": "stdout",
     "output_type": "stream",
     "text": [
      "Answer :  1\n"
     ]
    }
   ],
   "source": [
    "# Modules Operator\n",
    "x = 7\n",
    "y = 3\n",
    "z = x%y\n",
    "print(\"Answer : \", z)"
   ]
  },
  {
   "cell_type": "markdown",
   "metadata": {},
   "source": [
    "# Assignment Operator"
   ]
  },
  {
   "cell_type": "code",
   "execution_count": null,
   "metadata": {},
   "outputs": [
    {
     "name": "stdout",
     "output_type": "stream",
     "text": [
      "x :  5\n"
     ]
    }
   ],
   "source": [
    "# Equalto Operator\n",
    "x = 5\n",
    "print(\"x : \", x)"
   ]
  },
  {
   "cell_type": "code",
   "execution_count": null,
   "metadata": {},
   "outputs": [
    {
     "name": "stdout",
     "output_type": "stream",
     "text": [
      "X :  6\n"
     ]
    }
   ],
   "source": [
    "# Addition and Equalto Operator\n",
    "x = 5\n",
    "x += 1 # x = x+1\n",
    "print(\"X : \", x)"
   ]
  },
  {
   "cell_type": "code",
   "execution_count": null,
   "metadata": {},
   "outputs": [
    {
     "name": "stdout",
     "output_type": "stream",
     "text": [
      "X :  6\n"
     ]
    }
   ],
   "source": [
    "# Substraction and Equalto Operator\n",
    "x = 7\n",
    "x -= 1 # x = x - 1\n",
    "print(\"X : \", x)"
   ]
  },
  {
   "cell_type": "markdown",
   "metadata": {},
   "source": [
    "# Comparsion Operator"
   ]
  },
  {
   "cell_type": "code",
   "execution_count": null,
   "metadata": {},
   "outputs": [
    {
     "name": "stdout",
     "output_type": "stream",
     "text": [
      "True\n"
     ]
    }
   ],
   "source": [
    "# Equalto-Equalto Operator\n",
    "x = 3\n",
    "# y = 4\n",
    "y = 3\n",
    "print(x==y)"
   ]
  },
  {
   "cell_type": "code",
   "execution_count": null,
   "metadata": {},
   "outputs": [
    {
     "name": "stdout",
     "output_type": "stream",
     "text": [
      "True\n"
     ]
    }
   ],
   "source": [
    "# not Equalto operator\n",
    "x = 5\n",
    "y = 3\n",
    "print(x!=y)"
   ]
  },
  {
   "cell_type": "code",
   "execution_count": null,
   "metadata": {},
   "outputs": [
    {
     "name": "stdout",
     "output_type": "stream",
     "text": [
      "True\n"
     ]
    }
   ],
   "source": [
    "# Greater than equalto\n",
    "x = 7\n",
    "y = 3\n",
    "print(x>=y)"
   ]
  },
  {
   "cell_type": "markdown",
   "metadata": {},
   "source": [
    "# Logical Operator"
   ]
  },
  {
   "cell_type": "code",
   "execution_count": null,
   "metadata": {},
   "outputs": [
    {
     "name": "stdout",
     "output_type": "stream",
     "text": [
      "False\n"
     ]
    }
   ],
   "source": [
    "# And Operator\n",
    "x = 5\n",
    "print(x>3 and x<4) # if both the condition is true then the answer is true"
   ]
  },
  {
   "cell_type": "code",
   "execution_count": null,
   "metadata": {},
   "outputs": [
    {
     "name": "stdout",
     "output_type": "stream",
     "text": [
      "True\n"
     ]
    }
   ],
   "source": [
    "# Or Operator\n",
    "x = 5\n",
    "print(x>3 or x>7) # if one of the condition is true then or return true"
   ]
  },
  {
   "cell_type": "markdown",
   "metadata": {},
   "source": [
    "# Identity Operator"
   ]
  },
  {
   "cell_type": "code",
   "execution_count": 4,
   "metadata": {},
   "outputs": [
    {
     "name": "stdout",
     "output_type": "stream",
     "text": [
      "False\n",
      "True\n"
     ]
    }
   ],
   "source": [
    "# Is Operator\n",
    "x = [\"Apple\", \"Mango\"]\n",
    "y = [\"Apple\", \"Mango\"]\n",
    "z = x\n",
    "print(x is y) # the object is not matching that's why it gives as false\n",
    "\n",
    "print(x is z) # the object is matching that's why it returns true"
   ]
  },
  {
   "cell_type": "markdown",
   "metadata": {},
   "source": [
    "# Membership Operator"
   ]
  },
  {
   "cell_type": "code",
   "execution_count": 7,
   "metadata": {},
   "outputs": [
    {
     "name": "stdout",
     "output_type": "stream",
     "text": [
      "False\n",
      "True\n"
     ]
    }
   ],
   "source": [
    "# In operator\n",
    "x = [\"Apple\", \"Mango\"]\n",
    "print(\"Banana\" in x) # banana is not in x that's why it returns false\n",
    "print(\"Grapes\" not in x) # Grapes is not in x that's why it returns true"
   ]
  },
  {
   "cell_type": "markdown",
   "metadata": {},
   "source": [
    "# Operator Precedence\n"
   ]
  },
  {
   "cell_type": "markdown",
   "metadata": {},
   "source": [
    "1. which operator evaluates first can be confusing. So we have some rules for this too. This is the precedence table that denotes which operator evaluates first.\n",
    "2. We use brackets() to avoid the precedence"
   ]
  },
  {
   "cell_type": "code",
   "execution_count": null,
   "metadata": {},
   "outputs": [
    {
     "name": "stdout",
     "output_type": "stream",
     "text": [
      "13\n"
     ]
    }
   ],
   "source": [
    "values = (1+1)*2**4//3+4-1\n",
    "#           2*2**4//3+4-1\n",
    "#           2*16//3+4-1\n",
    "#           32//3+4-1\n",
    "#           10+4-1\n",
    "#           14-1\n",
    "#           13\n",
    "print(values)"
   ]
  },
  {
   "cell_type": "markdown",
   "metadata": {},
   "source": [
    "# note\n",
    "Floor division is a division operation that returns the largest integer that is less than or equal to the result of the division. In Python, it is denoted by the double forward slash ‘//’.\n",
    "\n",
    "Example\n",
    "\n",
    "If we divide 7 by 3 using floor division, we get:\n",
    "\n",
    "2"
   ]
  },
  {
   "cell_type": "code",
   "execution_count": null,
   "metadata": {},
   "outputs": [
    {
     "name": "stdout",
     "output_type": "stream",
     "text": [
      "X :  90.0\n"
     ]
    }
   ],
   "source": [
    "a = 20\n",
    "b = 10\n",
    "c = 15\n",
    "d = 5\n",
    "x = (((a+b)*c)/d)\n",
    "print(\"X : \", x)"
   ]
  },
  {
   "cell_type": "markdown",
   "metadata": {},
   "source": [
    "# Assignments\n",
    "\n",
    "    Question 1.\n",
    "        Write a program to print a string \"Hello Python\".\n",
    "\n",
    "    Question 2. \n",
    "        Write a program to store one value in variable and print that variable.\n",
    "\n",
    "    Question 3. \n",
    "        Write a program to take value from user input and print that value.\n",
    "\n",
    "    Question 4.\n",
    "        Write a program to do a sum of two values.\n",
    "\n",
    "    Question 5.\n",
    "        Write a program to perform devision using variables\n",
    "    \n",
    "    Question 6. \n",
    "        Write a program to print multiple value of variables\n",
    "    \n",
    "    Question 7. \n",
    "        Write a program to find a type of variable\n",
    "    \n",
    "    Question 8. \n",
    "        Write a program to take two integer value from the user and check both values are same"
   ]
  },
  {
   "cell_type": "code",
   "execution_count": null,
   "metadata": {},
   "outputs": [
    {
     "name": "stdout",
     "output_type": "stream",
     "text": [
      "Hello Python\n"
     ]
    }
   ],
   "source": [
    "# Question 1.\n",
    "print(\"Hello Python\")"
   ]
  },
  {
   "cell_type": "code",
   "execution_count": null,
   "metadata": {},
   "outputs": [
    {
     "name": "stdout",
     "output_type": "stream",
     "text": [
      "Namaste\n"
     ]
    }
   ],
   "source": [
    "# Question 2.\n",
    "x = \"Namaste\"\n",
    "print(x)"
   ]
  },
  {
   "cell_type": "code",
   "execution_count": null,
   "metadata": {},
   "outputs": [
    {
     "name": "stdout",
     "output_type": "stream",
     "text": [
      "the value of x is :  43\n"
     ]
    }
   ],
   "source": [
    "# Question 3\n",
    "x = input(\"Enter the value of x : \")\n",
    "print(\"the value of x is : \", x)"
   ]
  },
  {
   "cell_type": "code",
   "execution_count": null,
   "metadata": {},
   "outputs": [
    {
     "name": "stdout",
     "output_type": "stream",
     "text": [
      "11\n"
     ]
    }
   ],
   "source": [
    "# Question 4\n",
    "x = 4\n",
    "y = 7\n",
    "z = x+y\n",
    "print(z)"
   ]
  },
  {
   "cell_type": "code",
   "execution_count": null,
   "metadata": {},
   "outputs": [
    {
     "name": "stdout",
     "output_type": "stream",
     "text": [
      "2.0\n"
     ]
    }
   ],
   "source": [
    "# Question 5\n",
    "x = 4\n",
    "y = 2\n",
    "print(x/y)"
   ]
  },
  {
   "cell_type": "code",
   "execution_count": null,
   "metadata": {},
   "outputs": [
    {
     "name": "stdout",
     "output_type": "stream",
     "text": [
      "10\n",
      "5\n",
      "5\n",
      "7\n"
     ]
    }
   ],
   "source": [
    "# Question 6\n",
    "a = 10\n",
    "b = 5\n",
    "c = 5\n",
    "d = 7\n",
    "print(a)\n",
    "print(b)\n",
    "print(c)\n",
    "print(d)"
   ]
  },
  {
   "cell_type": "code",
   "execution_count": null,
   "metadata": {},
   "outputs": [
    {
     "name": "stdout",
     "output_type": "stream",
     "text": [
      "<class 'int'>\n",
      "<class 'str'>\n",
      "<class 'float'>\n"
     ]
    }
   ],
   "source": [
    "# Question 7\n",
    "a = 5\n",
    "b = \"python\"\n",
    "c = 10.5\n",
    "print(type(a))\n",
    "print(type(b))\n",
    "print(type(c))"
   ]
  },
  {
   "cell_type": "code",
   "execution_count": 1,
   "metadata": {},
   "outputs": [
    {
     "name": "stdout",
     "output_type": "stream",
     "text": [
      "The values of a + b is  11\n"
     ]
    }
   ],
   "source": [
    "# Question 8\n",
    "a = int(input(\"Enter the value of a : \"))\n",
    "b = int(input(\"Enter the value of b : \"))\n",
    "c = a+b\n",
    "print(\"The values of a + b is \", c)"
   ]
  },
  {
   "cell_type": "markdown",
   "metadata": {},
   "source": [
    "# Swap the Variable "
   ]
  },
  {
   "cell_type": "code",
   "execution_count": null,
   "metadata": {},
   "outputs": [
    {
     "name": "stdout",
     "output_type": "stream",
     "text": [
      "a = 7 b = 10\n"
     ]
    }
   ],
   "source": [
    "#a,b = 10,7\n",
    "a = 10\n",
    "b = 7\n",
    "a,b = b,a\n",
    "\n",
    "print(\"a =\",a ,\"b =\",b)"
   ]
  },
  {
   "cell_type": "code",
   "execution_count": null,
   "metadata": {},
   "outputs": [
    {
     "name": "stdout",
     "output_type": "stream",
     "text": [
      "a = 6 b = 12\n"
     ]
    }
   ],
   "source": [
    "# Swap the variable\n",
    "a= 12\n",
    "b=6\n",
    "c = a\n",
    "a = b\n",
    "b = c\n",
    "\n",
    "print(\"a =\",a ,\"b =\",b)"
   ]
  },
  {
   "cell_type": "markdown",
   "metadata": {},
   "source": [
    "# Conditional Statement"
   ]
  },
  {
   "cell_type": "markdown",
   "metadata": {},
   "source": [
    "1. conditional statement in python perform different computations or actions depending on whether a specific Boolean constraint evaluates to true false.\n",
    "2. Conditional statements are handled by IF statements in Pyton\n",
    "3. Conditional statement is one type of boolean means it returns true or false"
   ]
  },
  {
   "cell_type": "markdown",
   "metadata": {},
   "source": [
    "There are 4 types of conditions\n",
    "1. Simple if\n",
    "2. if_else\n",
    "3. if_else Ladder\n",
    "4. Nested if"
   ]
  },
  {
   "cell_type": "markdown",
   "metadata": {},
   "source": [
    "# 1. Simple if"
   ]
  },
  {
   "cell_type": "code",
   "execution_count": null,
   "metadata": {},
   "outputs": [
    {
     "name": "stdout",
     "output_type": "stream",
     "text": [
      "The value of var is :  10\n",
      "Bye\n"
     ]
    }
   ],
   "source": [
    "# Simple if\n",
    "var = 10\n",
    "if(var==10): # My condition is getting true\n",
    "    print(\"The value of var is : \", var)\n",
    "print(\"Bye\")"
   ]
  },
  {
   "cell_type": "code",
   "execution_count": null,
   "metadata": {},
   "outputs": [
    {
     "name": "stdout",
     "output_type": "stream",
     "text": [
      "The upper condition is false\n"
     ]
    }
   ],
   "source": [
    "# Simple if\n",
    "a = 25\n",
    "if(a>=30): # my condition is getting false\n",
    "    print(\"The value of a is : \", a)\n",
    "print(\"The upper condition is false\")"
   ]
  },
  {
   "cell_type": "markdown",
   "metadata": {},
   "source": [
    "# 2. if_else"
   ]
  },
  {
   "cell_type": "code",
   "execution_count": null,
   "metadata": {},
   "outputs": [
    {
     "name": "stdout",
     "output_type": "stream",
     "text": [
      "A is greater\n"
     ]
    }
   ],
   "source": [
    "# If_Else\n",
    "a = int(input(\"Enter the value of a : \"))\n",
    "b = int(input(\"Enter the value of b : \"))\n",
    "if(a<b):\n",
    "    print(\"B is greater \")\n",
    "else: # if the upper condition is false then this condition is true\n",
    "    print(\"A is greater\")"
   ]
  },
  {
   "cell_type": "code",
   "execution_count": null,
   "metadata": {},
   "outputs": [],
   "source": [
    "# If_Else\n",
    "a = 25\n",
    "b = 30\n",
    "if(a<b): # if the condition is true then this execute\n",
    "    print(\"B is greater\")\n",
    "else: # if the upper condition is false then this condition will execute\n",
    "    print(\"A is greater\")"
   ]
  },
  {
   "cell_type": "markdown",
   "metadata": {},
   "source": [
    "# 3. if_else Ladder"
   ]
  },
  {
   "cell_type": "code",
   "execution_count": null,
   "metadata": {},
   "outputs": [
    {
     "name": "stdout",
     "output_type": "stream",
     "text": [
      "Fail\n"
     ]
    }
   ],
   "source": [
    "# 1) Percentage greater than 70 == Dist\n",
    "# 2) Percentage greater than or equalto 65 and less than 70 == 1st Class\n",
    "# 3) Percentage greater than or equalto 60 and less than 65 == 2nd Class\n",
    "# 4) Percentage greater than or equalto 55 and less than 60 == 3rd Class\n",
    "# 5) Percentage less than 55 == Fail\n",
    "\n",
    "\n",
    "p = int(input(\"Enter your percentage : \"))\n",
    "if(p>=70):\n",
    "    print(\"Dist\")\n",
    "elif(p>=65 and p<70): # IF the if statement is false then this code'll executed\n",
    "    print(\"1st Class\")\n",
    "elif(p>=60 and p<65):\n",
    "    print(\"2nd Class\")\n",
    "elif(p>=55 and p<60):\n",
    "    print(\"3rd Class\")\n",
    "else:\n",
    "    print(\"Fail\")"
   ]
  },
  {
   "cell_type": "markdown",
   "metadata": {},
   "source": [
    "# Nested_if\n"
   ]
  },
  {
   "cell_type": "code",
   "execution_count": null,
   "metadata": {},
   "outputs": [
    {
     "name": "stdout",
     "output_type": "stream",
     "text": [
      "Blood Donate\n"
     ]
    }
   ],
   "source": [
    "# 1) Age>= 18\n",
    "# 2) Weight >=50\n",
    "# 3) if both age and weight match the certeria then the user can donate the blood\n",
    "# 4) if age is less than 18 show one msg under age\n",
    "# 5) if weight is less than 50 show one msg under weight\n",
    "# 6) if age doesn't match then it should ask for weight\n",
    "age = int(input(\"Enter your age : \"))\n",
    "if(age>=18):\n",
    "    weight = int(input(\"Enter your weight\"))\n",
    "    if(weight>=50):\n",
    "        print(\"Blood Donate\")\n",
    "    else:\n",
    "        print(\"Under Weight\")\n",
    "else:\n",
    "    print(\"Under Age\")"
   ]
  },
  {
   "cell_type": "markdown",
   "metadata": {},
   "source": [
    "# Loops"
   ]
  },
  {
   "cell_type": "markdown",
   "metadata": {},
   "source": [
    "1. Loop control statements change execution from its normal sequence. \n",
    "2. When execution leaves a scope, all automatic objects that were created in that scope are destroyed"
   ]
  },
  {
   "cell_type": "markdown",
   "metadata": {},
   "source": [
    "There are three types of loops \n",
    "1. While Loop\n",
    "2. For Loop\n",
    "3. Nested for Loop"
   ]
  },
  {
   "cell_type": "markdown",
   "metadata": {},
   "source": [
    "1. While Loop :\n",
    "        In Python, a while loop is used to execute a block of statements repeatedly until a given condition is satisfied. When the condition becomes false, the line immediately after the loop in the program is executed.\n",
    "\n",
    "2. Python While Loop Syntax:\n",
    "    while expression:\n",
    "        statement(s)"
   ]
  },
  {
   "cell_type": "code",
   "execution_count": null,
   "metadata": {},
   "outputs": [
    {
     "name": "stdout",
     "output_type": "stream",
     "text": [
      "Loop Finished\n",
      "Bye\n"
     ]
    }
   ],
   "source": [
    "# While loop\n",
    "# 5, 9, 12, 14, 15\n",
    "sum = 0\n",
    "n = int(input(\"N : \"))\n",
    "while(n>0):\n",
    "    sum = sum + n\n",
    "    n-=1\n",
    "    print(\"Sum : \", sum)\n",
    "print(\"Bye\")"
   ]
  },
  {
   "cell_type": "markdown",
   "metadata": {},
   "source": [
    "# While Loop With Else Part"
   ]
  },
  {
   "cell_type": "code",
   "execution_count": null,
   "metadata": {},
   "outputs": [],
   "source": [
    "# While loop\n",
    "# 5, 9, 12, 14, 15\n",
    "sum = 0\n",
    "n = int(input(\"N : \"))\n",
    "while(n>0):\n",
    "    sum = sum + n\n",
    "    n-=1\n",
    "    print(\"Sum : \", sum)\n",
    "else : # in python we can use else in while loop\n",
    "    print(\"Loop Finished\")\n",
    "print(\"Bye\")"
   ]
  },
  {
   "cell_type": "markdown",
   "metadata": {},
   "source": [
    "# Simple For Loop"
   ]
  },
  {
   "cell_type": "markdown",
   "metadata": {},
   "source": [
    "For loops are used for sequential traversal. For example: traversing a list or string or array etc. In Python, there is “for in” loop which is similar to foreach loop in other languages. Let us learn how to use for loops in Python for sequential traversals with examples.\n",
    "\n",
    "For Loop Syntax:\n",
    "\n",
    "for iterator_var in sequence:\n",
    "    statements(s)"
   ]
  },
  {
   "cell_type": "code",
   "execution_count": null,
   "metadata": {},
   "outputs": [
    {
     "name": "stdout",
     "output_type": "stream",
     "text": [
      "Python = 6\n",
      "JAVA = 4\n",
      "Angular = 7\n",
      "Graphic = 7\n"
     ]
    }
   ],
   "source": [
    "# For loop\n",
    "word = [\"Python\",\"JAVA\",\"Angular\",\"Graphic\"]\n",
    "for i in word :\n",
    "    print(i, \"=\", len(i)) # len() is pre-defined function prvoided in python to calculate the lenght of word"
   ]
  },
  {
   "cell_type": "markdown",
   "metadata": {},
   "source": [
    "# Nested For Loop"
   ]
  },
  {
   "cell_type": "markdown",
   "metadata": {},
   "source": [
    "In Python programming language there are two types of loops which are for loop and while loop. Using these loops we can create nested loops in Python. Nested loops mean loops inside a loop."
   ]
  },
  {
   "cell_type": "code",
   "execution_count": null,
   "metadata": {},
   "outputs": [
    {
     "name": "stdout",
     "output_type": "stream",
     "text": [
      "*\n",
      "**\n",
      "***\n",
      "****\n",
      "*****\n"
     ]
    }
   ],
   "source": [
    "# *\n",
    "# **\n",
    "# ***\n",
    "# ****\n",
    "# *****\n",
    "\n",
    "# range(start point, end point, step(jump))\n",
    "# Iterate over the range from 1 to 5 (inclusive of 1, exclusive of 6)\n",
    "for i in range(1, 6):\n",
    "    # For each value of i, iterate from 0 up to but not including i\n",
    "    for j in range(i):\n",
    "        # Print an asterisk (*) without moving to a new line (end=\"\" prevents a newline character)\n",
    "        print(\"*\", end=\"\")\n",
    "    # After finishing the inner loop (printing stars), move to the next line\n",
    "    print()\n"
   ]
  },
  {
   "cell_type": "code",
   "execution_count": null,
   "metadata": {},
   "outputs": [
    {
     "name": "stdout",
     "output_type": "stream",
     "text": [
      "*****\n",
      "****\n",
      "***\n",
      "**\n",
      "*\n"
     ]
    }
   ],
   "source": [
    "# Iterate over the range starting from 5 down to 1 (inclusive of 5, exclusive of 0)\n",
    "for i in range(5, 0, -1):\n",
    "    # For each value of i, iterate from 0 up to but not including i\n",
    "    for j in range(i):\n",
    "        # Print an asterisk (*) without moving to a new line (end=\"\" prevents a newline character)\n",
    "        print(\"*\", end=\"\")\n",
    "    # After finishing the inner loop (printing stars), move to the next line\n",
    "    print()\n"
   ]
  },
  {
   "cell_type": "code",
   "execution_count": null,
   "metadata": {},
   "outputs": [
    {
     "name": "stdout",
     "output_type": "stream",
     "text": [
      "******\n",
      "******\n",
      "******\n",
      "******\n",
      "******\n",
      "******\n"
     ]
    }
   ],
   "source": [
    "a = int(input(\"Enter the value of a : \"))\n",
    "b = int(input(\"Enter the value of b : \"))\n",
    "for i in range(a,b):\n",
    "    for j in range(a,b):\n",
    "        print(\"*\",end=\"\")\n",
    "    print()"
   ]
  },
  {
   "cell_type": "code",
   "execution_count": null,
   "metadata": {},
   "outputs": [
    {
     "name": "stdout",
     "output_type": "stream",
     "text": [
      "* \n",
      "* * \n",
      "* * * \n",
      "* * * * \n",
      "* * * \n",
      "* * \n",
      "* \n"
     ]
    }
   ],
   "source": [
    "n = int(input(\"enter the value of n : \"))\n",
    "for i in range(n):\n",
    "    print(\"* \" *(i+1))\n",
    "for i in range(n-1):\n",
    "    print(\"* \" *(n-i-1))"
   ]
  },
  {
   "cell_type": "code",
   "execution_count": null,
   "metadata": {},
   "outputs": [
    {
     "name": "stdout",
     "output_type": "stream",
     "text": [
      "* * * * \n",
      "* * * \n",
      "* * \n",
      "* \n",
      "\n"
     ]
    }
   ],
   "source": [
    "n = int(input(\"enter the value of n : \"))\n",
    "for i in range(n):\n",
    "    print(\"* \" *(n-i-1))\n"
   ]
  },
  {
   "cell_type": "code",
   "execution_count": null,
   "metadata": {},
   "outputs": [
    {
     "name": "stdout",
     "output_type": "stream",
     "text": [
      "    *\n",
      "   ***\n",
      "  *****\n",
      " *******\n",
      "*********\n"
     ]
    }
   ],
   "source": [
    "n = int(input(\"enter the value of n : \"))\n",
    "for i in range(1, n):\n",
    "    for j in range(1, n - i):\n",
    "        print(' ', end='')\n",
    "    for j in range(0, 2* i -1):\n",
    "        print('*', end='')\n",
    "    print()"
   ]
  },
  {
   "cell_type": "markdown",
   "metadata": {},
   "source": [
    "# Loop Control Statement"
   ]
  },
  {
   "cell_type": "markdown",
   "metadata": {},
   "source": [
    "The loop control statement change the execution of the loop. when the execution leaves the scope, all automatic objects are gets destroyed."
   ]
  },
  {
   "cell_type": "markdown",
   "metadata": {},
   "source": [
    "There are three types of Looping Control Statement \n",
    "    1. Break Statement \n",
    "    2. Continue Statement \n",
    "    3. Pass Statement\n",
    "    "
   ]
  },
  {
   "cell_type": "markdown",
   "metadata": {},
   "source": [
    "1. Break Statement : Terminates the loop statement and transfer execution to the statement immediately following loop "
   ]
  },
  {
   "cell_type": "code",
   "execution_count": null,
   "metadata": {},
   "outputs": [
    {
     "name": "stdout",
     "output_type": "stream",
     "text": [
      "Current Letter :  P\n",
      "Current Letter :  y\n",
      "Current Letter :  t\n"
     ]
    }
   ],
   "source": [
    "# break statement\n",
    "for letter in \"Python\":\n",
    "    if letter == \"h\":\n",
    "        # here i'm using break statement to break execution\n",
    "        break\n",
    "    print(\"Current Letter : \", letter)"
   ]
  },
  {
   "cell_type": "markdown",
   "metadata": {},
   "source": [
    "2. Continue Statement : Python Continue statement is a loop control statement that forces to execute the next iteration of the loop while skipping the rest of the code inside the loop for the current iteration only, i.e. when the continue statement is executed in the loop, the code inside the loop following the continue statement will be skipped for the current iteration and the next iteration of the loop will begin.\n"
   ]
  },
  {
   "cell_type": "code",
   "execution_count": null,
   "metadata": {},
   "outputs": [
    {
     "name": "stdout",
     "output_type": "stream",
     "text": [
      "G\n",
      "k\n",
      "s\n",
      "f\n",
      "o\n",
      "r\n",
      "g\n",
      "k\n",
      "s\n"
     ]
    }
   ],
   "source": [
    "# continue statement\n",
    "for var in \"Geeksforgeeks\":\n",
    "\tif var == \"e\":\n",
    "\t\tcontinue # continue statement will skip the e\n",
    "\tprint(var)"
   ]
  },
  {
   "cell_type": "markdown",
   "metadata": {},
   "source": [
    "3. Pass Statement : The Python pass statement is a null statement. But the difference between pass and comment is that comment is ignored by the interpreter whereas pass is not ignored. \n"
   ]
  },
  {
   "cell_type": "code",
   "execution_count": null,
   "metadata": {},
   "outputs": [],
   "source": [
    "a = 10\n",
    "b = 20\n",
    "\n",
    "if(a<b):\n",
    "    pass\n",
    "else:\n",
    "    print(\"b<a\")\n"
   ]
  },
  {
   "cell_type": "markdown",
   "metadata": {},
   "source": [
    "String : \n",
    "    1. String allow any data type value to be store\n",
    "    2. String in python are surrounded by either single quotation marks, or double quotation marks.\n",
    "    3. String is the collection of character."
   ]
  },
  {
   "cell_type": "markdown",
   "metadata": {},
   "source": [
    "What can be done?\n",
    "    1. Create String\n",
    "    2. Indexing and slicing \n",
    "    3. Apply built-in methods"
   ]
  },
  {
   "cell_type": "code",
   "execution_count": null,
   "metadata": {},
   "outputs": [
    {
     "name": "stdout",
     "output_type": "stream",
     "text": [
      "hello world\n",
      "hello world\n"
     ]
    }
   ],
   "source": [
    "# single quote string\n",
    "print('hello world')\n",
    "\n",
    "# double quote string\n",
    "print(\"hello world\")"
   ]
  },
  {
   "cell_type": "markdown",
   "metadata": {},
   "source": [
    "# Multiline String"
   ]
  },
  {
   "cell_type": "code",
   "execution_count": null,
   "metadata": {},
   "outputs": [
    {
     "name": "stdout",
     "output_type": "stream",
     "text": [
      "Python is booming in market,\n",
      "python is smart language,\n",
      "python is used in AI, Machine Learning, Data Science\n",
      "\n"
     ]
    }
   ],
   "source": [
    "a = \"\"\"Python is booming in market,\n",
    "python is smart language,\n",
    "python is used in AI, Machine Learning, Data Science\n",
    "\"\"\"\n",
    "print(a)"
   ]
  },
  {
   "cell_type": "markdown",
   "metadata": {},
   "source": [
    "# Update String"
   ]
  },
  {
   "cell_type": "code",
   "execution_count": null,
   "metadata": {},
   "outputs": [
    {
     "name": "stdout",
     "output_type": "stream",
     "text": [
      "Hello World\n",
      "The length of a is :  11\n",
      "Update String :  Hello Python\n"
     ]
    }
   ],
   "source": [
    "a = \"Hello World\"\n",
    "print(a)\n",
    "print(\"The length of a is : \", len(a))\n",
    "print(\"Update String : \", a[:6]+\"Python\" )"
   ]
  },
  {
   "cell_type": "markdown",
   "metadata": {},
   "source": [
    "# String Slicing"
   ]
  },
  {
   "cell_type": "code",
   "execution_count": null,
   "metadata": {},
   "outputs": [
    {
     "name": "stdout",
     "output_type": "stream",
     "text": [
      "Index 1 :  e\n",
      "Index between 1 to 6 :  ello \n",
      "Index till 6 :  Hello \n",
      "Last Value :  d\n"
     ]
    }
   ],
   "source": [
    "a =  \"Hello World\"\n",
    "# Access the value of index 1\n",
    "# Index of value always start with 0\n",
    "print(\"Index 1 : \", a[1])\n",
    "\n",
    "# Access the value between 1 to 6\n",
    "print(\"Index between 1 to 6 : \", a[1:6])\n",
    "\n",
    "# Access the value till index 6\n",
    "print(\"Index till 6 : \", a[:6])\n",
    "\n",
    "# Access the last value from the string\n",
    "print(\"Last Value : \", a[-1])"
   ]
  },
  {
   "cell_type": "markdown",
   "metadata": {},
   "source": [
    "# String In-builds Methods"
   ]
  },
  {
   "cell_type": "code",
   "execution_count": null,
   "metadata": {},
   "outputs": [
    {
     "name": "stdout",
     "output_type": "stream",
     "text": [
      "Hello welcome to the world of python\n"
     ]
    }
   ],
   "source": [
    "# Capitalize() : This method convert the first character in string\n",
    "a = \"hello welcome to the world of python\"\n",
    "x = a.capitalize()\n",
    "print(x)"
   ]
  },
  {
   "cell_type": "code",
   "execution_count": null,
   "metadata": {},
   "outputs": [
    {
     "name": "stdout",
     "output_type": "stream",
     "text": [
      "hello and welcom to the world of python\n"
     ]
    }
   ],
   "source": [
    "# Casefold() : This method convert all the capital letter into small\n",
    "a = \"Hello and Welcom to the World Of Python\"\n",
    "x = a.casefold()\n",
    "print(x)"
   ]
  },
  {
   "cell_type": "code",
   "execution_count": 4,
   "metadata": {},
   "outputs": [
    {
     "name": "stdout",
     "output_type": "stream",
     "text": [
      "python\n",
      "       python       \n"
     ]
    }
   ],
   "source": [
    "# Center() : This is use to bring your string into center\n",
    "a = \"python\"\n",
    "print(a)\n",
    "x = a.center(20)\n",
    "# update using center method\n",
    "print(x)"
   ]
  },
  {
   "cell_type": "code",
   "execution_count": null,
   "metadata": {},
   "outputs": [
    {
     "name": "stdout",
     "output_type": "stream",
     "text": [
      "2\n"
     ]
    }
   ],
   "source": [
    "# Count() : This method is used to count the repeated word in string\n",
    "a = \"I love python, python is a smart language\"\n",
    "x = a.count(\"python\")\n",
    "print(x)"
   ]
  },
  {
   "cell_type": "markdown",
   "metadata": {},
   "source": [
    "# How to compare String"
   ]
  },
  {
   "cell_type": "code",
   "execution_count": null,
   "metadata": {},
   "outputs": [
    {
     "name": "stdout",
     "output_type": "stream",
     "text": [
      "True\n"
     ]
    }
   ],
   "source": [
    "str1 = \"Apple\"\n",
    "str2 = \"Apple\"\n",
    "result = str1==str2\n",
    "print(result)"
   ]
  },
  {
   "cell_type": "code",
   "execution_count": null,
   "metadata": {},
   "outputs": [
    {
     "name": "stdout",
     "output_type": "stream",
     "text": [
      "True\n"
     ]
    }
   ],
   "source": [
    "str1 = \"Mango\"\n",
    "str2 = \"Python\"\n",
    "# result = str1 < str2\n",
    "result = str1 == str2\n",
    "print(result)"
   ]
  },
  {
   "cell_type": "code",
   "execution_count": null,
   "metadata": {},
   "outputs": [
    {
     "name": "stdout",
     "output_type": "stream",
     "text": [
      "True\n"
     ]
    }
   ],
   "source": [
    "str1 = 'A'\n",
    "str2 = 'B'\n",
    "str3 = 'C'\n",
    "result = str2 < str3\n",
    "print(result)"
   ]
  },
  {
   "cell_type": "markdown",
   "metadata": {},
   "source": [
    "# Assignment\n",
    "    Question 1.\n",
    "        Write a program to accept a list from the user and print the alternate element of list\n",
    "    Question 2. \n",
    "        Write a program to remove the element \"3\" from the given list [1,2,3,4,5,6].\n",
    "    Question 3. \n",
    "        Write a program to insert the element \"Python\" on index 2 in the given list [\"Java\", \"Php\", \".Net\", \"Angular\"]\n",
    "    Question 4. \n",
    "        Write a program to add element in list using for loop.\n",
    "    Question 5. \n",
    "        Write a program to perform slicing with given tuple (\"Python\",1,2,3,\"Java\",'A','B') with following slicing point:\n",
    "            1. print alternative value of tuple.\n",
    "            2. print value between 1 to 5.\n",
    "            3. print the last value of tuple.\n",
    "    Question 6. \n",
    "        Write a program to count element in given tuple(1,2,3,4,5,6,7,8,).\n",
    "    Question 7.\n",
    "        Write a program to convert tuple into list."
   ]
  },
  {
   "cell_type": "code",
   "execution_count": null,
   "metadata": {},
   "outputs": [
    {
     "data": {
      "text/plain": [
       "[1, 2, 3, 4]"
      ]
     },
     "execution_count": 18,
     "metadata": {},
     "output_type": "execute_result"
    }
   ],
   "source": [
    "# Question 1\n",
    "\n",
    "li=[]\n",
    "for i in range(4):\n",
    "    n = int(input(\"Enter the value of n : \"))\n",
    "    li.append(n)\n",
    "\n",
    "li"
   ]
  },
  {
   "cell_type": "code",
   "execution_count": null,
   "metadata": {},
   "outputs": [
    {
     "name": "stdout",
     "output_type": "stream",
     "text": [
      "[1, 2, 3, 4]\n"
     ]
    }
   ],
   "source": [
    "# Question 1\n",
    "# Initialize an empty list to store the input values\n",
    "li = []\n",
    "\n",
    "# Use a for loop to repeat the following block of code user input times\n",
    "a = int(input(\"Enter the value of a : \"))\n",
    "for i in range(a):\n",
    "    # Prompt the user to enter a value and convert the input to an integer\n",
    "    n = int(input(\"Enter the value of n : \"))\n",
    "\n",
    "    # Append the entered integer to the list 'li'\n",
    "    li.append(n)\n",
    "\n",
    "# Output the final list containing all the entered values\n",
    "print(li)\n"
   ]
  },
  {
   "cell_type": "code",
   "execution_count": null,
   "metadata": {},
   "outputs": [
    {
     "name": "stdout",
     "output_type": "stream",
     "text": [
      "[1, 2, 4, 5, 6]\n",
      "\n",
      "Here is a list of the Python keywords.  Enter any keyword to get more help.\n",
      "\n",
      "False               class               from                or\n",
      "None                continue            global              pass\n",
      "True                def                 if                  raise\n",
      "and                 del                 import              return\n",
      "as                  elif                in                  try\n",
      "assert              else                is                  while\n",
      "async               except              lambda              with\n",
      "await               finally             nonlocal            yield\n",
      "break               for                 not                 \n",
      "\n"
     ]
    }
   ],
   "source": [
    "# Question 2\n",
    "list = [1,2,3,4,5,6]\n",
    "list.remove(3)\n",
    "print(list)\n",
    "help(\"keywords\")\n"
   ]
  },
  {
   "cell_type": "code",
   "execution_count": null,
   "metadata": {},
   "outputs": [
    {
     "name": "stdout",
     "output_type": "stream",
     "text": [
      "['Java', 'Php', 'Python', '.Net', 'Angular']\n"
     ]
    }
   ],
   "source": [
    "# Question 3\n",
    "l1 =  [\"Java\", \"Php\", \".Net\", \"Angular\"]\n",
    "# l1.append(\"Python\")\n",
    "l1.insert(2,\"Python\")\n",
    "print(l1)"
   ]
  },
  {
   "cell_type": "code",
   "execution_count": null,
   "metadata": {},
   "outputs": [
    {
     "name": "stdout",
     "output_type": "stream",
     "text": [
      "[1, 2, 3, 4, 5, 6]\n"
     ]
    }
   ],
   "source": [
    "# Question 4\n",
    "# Initialize an empty list\n",
    "my_list = []\n",
    "\n",
    "# List of items to add\n",
    "items_to_add = [1, 2, 3, 4, 5, 6]\n",
    "\n",
    "# Use a for loop to add elements to the list\n",
    "for item in items_to_add:\n",
    "    my_list.append(item)\n",
    "\n",
    "print(my_list)  # Output: [1, 2, 3, 4, 5]\n"
   ]
  },
  {
   "cell_type": "code",
   "execution_count": null,
   "metadata": {},
   "outputs": [
    {
     "name": "stdout",
     "output_type": "stream",
     "text": [
      "[1, 2, 'python', 'a', 10.3]\n"
     ]
    }
   ],
   "source": [
    "# Question 4\n",
    "list1 = []\n",
    "items_to_add = [1,2,\"python\",'a',10.3]\n",
    "for items in items_to_add:\n",
    "    list1.append(items)\n",
    "print(list1)"
   ]
  },
  {
   "cell_type": "markdown",
   "metadata": {},
   "source": [
    "# Append()"
   ]
  },
  {
   "cell_type": "markdown",
   "metadata": {},
   "source": [
    "The append() method appends an element to the end of the list."
   ]
  },
  {
   "cell_type": "code",
   "execution_count": 6,
   "metadata": {},
   "outputs": [
    {
     "name": "stdout",
     "output_type": "stream",
     "text": [
      "['apple', 'banana', 'cherry', ['Ford', 'BMW', 'Volvo']]\n"
     ]
    }
   ],
   "source": [
    "a = [\"apple\", \"banana\", \"cherry\"]\n",
    "b = [\"Ford\", \"BMW\", \"Volvo\"]\n",
    "a.append(b)\n",
    "print(a)"
   ]
  },
  {
   "cell_type": "markdown",
   "metadata": {},
   "source": [
    "# Extend()"
   ]
  },
  {
   "cell_type": "markdown",
   "metadata": {},
   "source": [
    "The extend() method adds the specified list elements (or any iterable) to the end of the current list."
   ]
  },
  {
   "cell_type": "code",
   "execution_count": 7,
   "metadata": {},
   "outputs": [
    {
     "name": "stdout",
     "output_type": "stream",
     "text": [
      "['apple', 'banana', 'cherry', 'Ford', 'BMW', 'Volvo']\n"
     ]
    }
   ],
   "source": [
    "fruits = ['apple', 'banana', 'cherry']\n",
    "\n",
    "cars = ['Ford', 'BMW', 'Volvo']\n",
    "\n",
    "fruits.extend(cars)\n",
    "print(fruits)"
   ]
  },
  {
   "cell_type": "markdown",
   "metadata": {},
   "source": [
    "# Functions\n"
   ]
  },
  {
   "cell_type": "markdown",
   "metadata": {},
   "source": [
    "1. A function is a block of code which only runs when it is called.\n",
    "2. You can pass data, known as parameters, into a function.\n",
    "3. A function can return data as a result."
   ]
  },
  {
   "cell_type": "code",
   "execution_count": 1,
   "metadata": {},
   "outputs": [],
   "source": [
    "def my_function():\n",
    "  print(\"Hello from a function\")"
   ]
  },
  {
   "cell_type": "markdown",
   "metadata": {},
   "source": [
    "# Calling a Function\n"
   ]
  },
  {
   "cell_type": "markdown",
   "metadata": {},
   "source": [
    "To call a function, use the function name followed by parenthesis:"
   ]
  },
  {
   "cell_type": "code",
   "execution_count": 2,
   "metadata": {},
   "outputs": [
    {
     "name": "stdout",
     "output_type": "stream",
     "text": [
      "Hello from a function\n"
     ]
    }
   ],
   "source": [
    "def my_function():\n",
    "    print(\"Hello from a function\")\n",
    "\n",
    "my_function()"
   ]
  },
  {
   "cell_type": "code",
   "execution_count": 4,
   "metadata": {},
   "outputs": [
    {
     "name": "stdout",
     "output_type": "stream",
     "text": [
      "Welcome aman\n"
     ]
    }
   ],
   "source": [
    "def greeting(name):\n",
    "    print(\"Welcome \" + name)\n",
    "\n",
    "greeting(\"aman\")"
   ]
  },
  {
   "cell_type": "code",
   "execution_count": 6,
   "metadata": {},
   "outputs": [
    {
     "name": "stdout",
     "output_type": "stream",
     "text": [
      "Welcome Aman\n",
      "You are part of IT Department\n"
     ]
    }
   ],
   "source": [
    "def greeting(name, department):\n",
    "    print(\"Welcome \" + name)\n",
    "    print(\"You are part of \" + department)\n",
    "\n",
    "greeting(\"Aman\", \"IT Department\")"
   ]
  },
  {
   "cell_type": "markdown",
   "metadata": {},
   "source": [
    "# type()"
   ]
  },
  {
   "cell_type": "markdown",
   "metadata": {},
   "source": [
    "1. The type() function returns the data type of its argument.\n",
    "2. The type() function helps you keep track of the data types of variables to avoid errors throughout your code. "
   ]
  },
  {
   "cell_type": "code",
   "execution_count": 12,
   "metadata": {},
   "outputs": [
    {
     "name": "stdout",
     "output_type": "stream",
     "text": [
      "<class 'str'>\n",
      "<class 'int'>\n"
     ]
    }
   ],
   "source": [
    "print(type(\"security\"))\n",
    "print(type(8))"
   ]
  },
  {
   "cell_type": "markdown",
   "metadata": {},
   "source": [
    "# str()"
   ]
  },
  {
   "cell_type": "markdown",
   "metadata": {},
   "source": [
    "1. The str() function can be used to convert any data type to a string.\n",
    "2. The str()function takes a single argument, which is the value that you want to convert to a string.\n",
    "3. The str() function will then return a string representation of the value."
   ]
  },
  {
   "cell_type": "code",
   "execution_count": 14,
   "metadata": {},
   "outputs": [
    {
     "name": "stdout",
     "output_type": "stream",
     "text": [
      "12\n",
      "<class 'str'>\n"
     ]
    }
   ],
   "source": [
    "number = 12\n",
    "string_representation = str(number)\n",
    "print(string_representation)\n",
    "print(type(string_representation))\n"
   ]
  },
  {
   "cell_type": "markdown",
   "metadata": {},
   "source": [
    "# Sorted()"
   ]
  },
  {
   "cell_type": "markdown",
   "metadata": {},
   "source": [
    "1. The sorted() function returns a sorted list of the specified iterable object.\n",
    "2. You can specify ascending or descending order. Strings are sorted alphabetically, and numbers are sorted numerically."
   ]
  },
  {
   "cell_type": "markdown",
   "metadata": {},
   "source": [
    "# Note:\n",
    "You cannot sort a list that contains BOTH string values AND numeric values."
   ]
  },
  {
   "cell_type": "code",
   "execution_count": 1,
   "metadata": {},
   "outputs": [
    {
     "name": "stdout",
     "output_type": "stream",
     "text": [
      "['a', 'b', 'c', 'd', 'e', 'f', 'g', 'h']\n"
     ]
    }
   ],
   "source": [
    "a = (\"b\", \"g\", \"a\", \"d\", \"f\", \"c\", \"h\", \"e\")\n",
    "x = sorted(a)\n",
    "print(x)\n",
    "# this is my comments"
   ]
  },
  {
   "cell_type": "markdown",
   "metadata": {},
   "source": [
    "# max() and min() "
   ]
  },
  {
   "cell_type": "markdown",
   "metadata": {},
   "source": [
    "1. The max() function returns the largest numeric input passed into it.\n",
    "2. The min() function returns the smallest numeric input passed into it."
   ]
  },
  {
   "cell_type": "code",
   "execution_count": 8,
   "metadata": {},
   "outputs": [
    {
     "name": "stdout",
     "output_type": "stream",
     "text": [
      "2\n",
      "57\n"
     ]
    }
   ],
   "source": [
    "time_list = [12, 2, 32, 19, 57, 22, 14]\n",
    "print(min(time_list))\n",
    "print(max(time_list))"
   ]
  },
  {
   "cell_type": "markdown",
   "metadata": {},
   "source": [
    "# len()"
   ]
  },
  {
   "cell_type": "markdown",
   "metadata": {},
   "source": [
    "1. The len() function returns the number of items in an object.\n",
    "\n",
    "2. When the object is a string, the len() function returns the number of characters in the string."
   ]
  },
  {
   "cell_type": "code",
   "execution_count": 11,
   "metadata": {},
   "outputs": [
    {
     "name": "stdout",
     "output_type": "stream",
     "text": [
      "Hello Kay. Your lucky number is 27\n",
      "Hello Cameron. Your lucky number is 63\n"
     ]
    }
   ],
   "source": [
    "name = \"Kay\"\n",
    "number = len(name) * 9\n",
    "\n",
    "print(\"Hello \" + name + \". Your lucky number is \" + str(number))\n",
    "\n",
    "name = \"Cameron\"\n",
    "number = len(name) * 9\n",
    "\n",
    "print(\"Hello \" + name + \". Your lucky number is \" + str(number))"
   ]
  },
  {
   "cell_type": "code",
   "execution_count": 16,
   "metadata": {},
   "outputs": [
    {
     "name": "stdout",
     "output_type": "stream",
     "text": [
      "Hello Aman. Your lucky number is :  4\n"
     ]
    }
   ],
   "source": [
    "name = \"Aman\"\n",
    "result = len(name)\n",
    "print(\"Hello \" + name + \". Your lucky number is :  \" + str(result))"
   ]
  },
  {
   "cell_type": "markdown",
   "metadata": {},
   "source": [
    "# Skill Group 1"
   ]
  },
  {
   "cell_type": "markdown",
   "metadata": {},
   "source": [
    "1. Use a function that accepts multiple parameters\n",
    "2. Return a result value"
   ]
  },
  {
   "cell_type": "code",
   "execution_count": 1,
   "metadata": {},
   "outputs": [
    {
     "name": "stdout",
     "output_type": "stream",
     "text": [
      "903\n"
     ]
    }
   ],
   "source": [
    "# This function calculates the number of days in a variable number of \n",
    "# years, months, and days. These variables are provided by the user and\n",
    "# are passed to the function through the function’s parameters.\n",
    "def find_total_days(years, months, days):\n",
    "# Assign a variable to hold the calculations for the number of days in\n",
    "# a year (years*365) plus the number of days in a month (months*30) plus\n",
    "# the number of days provided through the \"days\" parameter variable.\n",
    "    my_days = (years*365) + (months*30) + days\n",
    "# Use the \"return\" keyword to send the result of the \"my_days\"  \n",
    "# calculation to the function call. \n",
    "    return my_days\n",
    " \n",
    "# Function call with user provided parameter values. \n",
    "print(find_total_days(2,5,23))"
   ]
  },
  {
   "cell_type": "markdown",
   "metadata": {},
   "source": [
    "# Skill Group 2"
   ]
  },
  {
   "cell_type": "markdown",
   "metadata": {},
   "source": [
    "1. Use a function to return the result of a measurement conversion\n",
    "2. Use arithmetic operators to perform a calculation\n",
    "3. Combine text with a function call within a print() statement\n",
    "4. Convert the return value from a float data type to a string for the print() function\n",
    "5. Call the function and perform a calculation on the return value within a print() statement"
   ]
  },
  {
   "cell_type": "code",
   "execution_count": 2,
   "metadata": {},
   "outputs": [
    {
     "name": "stdout",
     "output_type": "stream",
     "text": [
      "The volume in milliliters is 59.0\n",
      "The volume in milliliters is 118.0\n"
     ]
    }
   ],
   "source": [
    "# This function converts fluid ounces to milliliters and returns the \n",
    "# result of the conversion.\n",
    "def convert_volume(fluid_ounce):\n",
    "# Calculate value of the \"ml\" variable using the parameter variable \n",
    "# \"fluid_ounce\". There are approximately 29.5 milliliters in 1 fluid\n",
    "# ounce.\n",
    "    ml = fluid_ounce * 29.5  \n",
    "# Return the result of the calculation.  \n",
    "    return ml\n",
    " \n",
    "# Call the conversion from within the print() function using 2 fluid \n",
    "# ounces. Convert the return value from a float to a string.  \n",
    "print(\"The volume in milliliters is \" + str(convert_volume(2)))\n",
    " \n",
    "# Call the function again and double the 2 fluid ounces from within\n",
    "# the print function.\n",
    "print(\"The volume in milliliters is \" + str(convert_volume(2)*2))\n",
    "# Alternative calculation:\n",
    "# print(\"The volume in milliliters is \" + str(convert_volume(4))\n"
   ]
  },
  {
   "cell_type": "markdown",
   "metadata": {},
   "source": [
    "# Comparing Things"
   ]
  },
  {
   "cell_type": "code",
   "execution_count": 3,
   "metadata": {},
   "outputs": [
    {
     "name": "stdout",
     "output_type": "stream",
     "text": [
      "True\n",
      "False\n",
      "True\n"
     ]
    }
   ],
   "source": [
    "print(10>1)\n",
    "#True\n",
    "print(\"cat\" == \"dog\")\n",
    "#False\n",
    "print (1 != 2)\n",
    "#True"
   ]
  },
  {
   "cell_type": "code",
   "execution_count": 4,
   "metadata": {},
   "outputs": [
    {
     "ename": "TypeError",
     "evalue": "'<' not supported between instances of 'int' and 'str'",
     "output_type": "error",
     "traceback": [
      "\u001b[1;31m---------------------------------------------------------------------------\u001b[0m",
      "\u001b[1;31mTypeError\u001b[0m                                 Traceback (most recent call last)",
      "Cell \u001b[1;32mIn[4], line 1\u001b[0m\n\u001b[1;32m----> 1\u001b[0m \u001b[38;5;28mprint\u001b[39m(\u001b[38;5;241;43m1\u001b[39;49m\u001b[43m \u001b[49m\u001b[38;5;241;43m<\u001b[39;49m\u001b[43m \u001b[49m\u001b[38;5;124;43m\"\u001b[39;49m\u001b[38;5;124;43m1\u001b[39;49m\u001b[38;5;124;43m\"\u001b[39;49m)\n\u001b[0;32m      2\u001b[0m \u001b[38;5;66;03m#Will return a type error\u001b[39;00m\n",
      "\u001b[1;31mTypeError\u001b[0m: '<' not supported between instances of 'int' and 'str'"
     ]
    }
   ],
   "source": [
    "print(1 < \"1\")\n",
    "#Will return a type error"
   ]
  },
  {
   "cell_type": "code",
   "execution_count": 5,
   "metadata": {},
   "outputs": [
    {
     "name": "stdout",
     "output_type": "stream",
     "text": [
      "False\n"
     ]
    }
   ],
   "source": [
    "print(1 == \"1\")\n",
    "#False"
   ]
  },
  {
   "cell_type": "code",
   "execution_count": 14,
   "metadata": {},
   "outputs": [
    {
     "name": "stdout",
     "output_type": "stream",
     "text": [
      "False\n"
     ]
    }
   ],
   "source": [
    "print(\"Yellow\" > \"Cyan\" and \"Brown\" > \"Magenta\")\n",
    "#False"
   ]
  },
  {
   "cell_type": "code",
   "execution_count": 8,
   "metadata": {},
   "outputs": [
    {
     "name": "stdout",
     "output_type": "stream",
     "text": [
      "True\n"
     ]
    }
   ],
   "source": [
    "print(25 > 50 or 1 != 2)\n",
    "#True"
   ]
  },
  {
   "cell_type": "code",
   "execution_count": 9,
   "metadata": {},
   "outputs": [
    {
     "name": "stdout",
     "output_type": "stream",
     "text": [
      "False\n"
     ]
    }
   ],
   "source": [
    "print( 42 == \"Answer\")\n",
    "#True"
   ]
  },
  {
   "cell_type": "markdown",
   "metadata": {},
   "source": [
    "# # PART 1: Equality == and Not Equal to != Operators with Strings"
   ]
  },
  {
   "cell_type": "code",
   "execution_count": 1,
   "metadata": {},
   "outputs": [
    {
     "name": "stdout",
     "output_type": "stream",
     "text": [
      "True\n",
      "False\n",
      "True\n",
      "False\n",
      "False\n"
     ]
    }
   ],
   "source": [
    "# The == operator can check if two strings are equal to each other. \n",
    "# If they are equal, the Python interpreter returns a True result.\n",
    "print(\"a string\" == \"a string\")\n",
    "# True\n",
    "\n",
    "\n",
    "# In this example, the equality == comparison is between \"4 + 5\" and\n",
    "# 4 + 5. Since the left data type is a string and the right data type\n",
    "# is an integer, the two values cannot be equal. So, the comparison\n",
    "# returns a False result.\n",
    "print(\"4 + 5\" == 4 + 5)\n",
    "# False\n",
    "\n",
    "\n",
    "# The != operator can check if the two strings are NOT equal to each\n",
    "# other. If they are indeed not equal, then Python returns a True result.\n",
    "print(\"rabbit\" != \"frog\")\n",
    "# True\n",
    "\n",
    "\n",
    "# In this example, the variable event_city has been assigned the string \n",
    "# value \"Shanghai\". This variable is compared to a static string, \n",
    "# \"Shanghai\", using the != operator. As, the strings \"Shanghai\" and \n",
    "# \"Shanghai\" are the same, the comparison of \"Shanghai\" != \"Shanghai\" \n",
    "# is false. Accordingly, Python will return a False result.\n",
    "event_city = \"Shanghai\"\n",
    "print(event_city != \"Shanghai\")\n",
    "# False\n",
    "\n",
    "# This last example illustrates the result of trying to compare two\n",
    "# items of different data types using the equality == operator. The\n",
    "# two items are not equal, so the comparison returns False.\n",
    "print(\"three\" == 3)\n",
    "# False\n"
   ]
  },
  {
   "cell_type": "markdown",
   "metadata": {},
   "source": [
    "# PART 2: The Greater Than > and Less Than < Operators"
   ]
  },
  {
   "cell_type": "code",
   "execution_count": 2,
   "metadata": {},
   "outputs": [
    {
     "name": "stdout",
     "output_type": "stream",
     "text": [
      "True\n",
      "True\n",
      "False\n",
      "False\n"
     ]
    },
    {
     "ename": "TypeError",
     "evalue": "'<' not supported between instances of 'str' and 'int'",
     "output_type": "error",
     "traceback": [
      "\u001b[1;31m---------------------------------------------------------------------------\u001b[0m",
      "\u001b[1;31mTypeError\u001b[0m                                 Traceback (most recent call last)",
      "Cell \u001b[1;32mIn[2], line 44\u001b[0m\n\u001b[0;32m     36\u001b[0m \u001b[38;5;28mprint\u001b[39m(\u001b[38;5;124m\"\u001b[39m\u001b[38;5;124mLima\u001b[39m\u001b[38;5;124m\"\u001b[39m \u001b[38;5;241m<\u001b[39m \u001b[38;5;124m\"\u001b[39m\u001b[38;5;124mLima\u001b[39m\u001b[38;5;124m\"\u001b[39m)\n\u001b[0;32m     37\u001b[0m \u001b[38;5;66;03m# False\u001b[39;00m\n\u001b[0;32m     38\u001b[0m \n\u001b[0;32m     39\u001b[0m \n\u001b[1;32m   (...)\u001b[0m\n\u001b[0;32m     42\u001b[0m \u001b[38;5;66;03m# greater than > and less than operators < cannot be used to compare\u001b[39;00m\n\u001b[0;32m     43\u001b[0m \u001b[38;5;66;03m# two different data types. \u001b[39;00m\n\u001b[1;32m---> 44\u001b[0m \u001b[38;5;28mprint\u001b[39m(\u001b[38;5;124;43m\"\u001b[39;49m\u001b[38;5;124;43mFive\u001b[39;49m\u001b[38;5;124;43m\"\u001b[39;49m\u001b[43m \u001b[49m\u001b[38;5;241;43m<\u001b[39;49m\u001b[43m \u001b[49m\u001b[38;5;241;43m6\u001b[39;49m)\n\u001b[0;32m     45\u001b[0m \u001b[38;5;124;03m'''\u001b[39;00m\n\u001b[0;32m     46\u001b[0m \u001b[38;5;124;03mError on line 1:\u001b[39;00m\n\u001b[0;32m     47\u001b[0m \u001b[38;5;124;03m    print(\"Five\" < 6)\u001b[39;00m\n\u001b[0;32m     48\u001b[0m \u001b[38;5;124;03mTypeError: '<' not supported between instances of 'str' and 'int'\u001b[39;00m\n\u001b[0;32m     49\u001b[0m \u001b[38;5;124;03m'''\u001b[39;00m\n",
      "\u001b[1;31mTypeError\u001b[0m: '<' not supported between instances of 'str' and 'int'"
     ]
    }
   ],
   "source": [
    "# The greater than > operator checks if the left string has a higher \n",
    "# Unicode value than the right string. If true, the Python interpreter\n",
    "# returns a True result. Since W has a Unicode value of 87, and you can \n",
    "# easily calculate that F has a Unicode value of 70, this comparison is\n",
    "# the same as 87 > 70. As this is true, Python will return a True \n",
    "# result.\n",
    "print(\"Wednesday\" > \"Friday\")\n",
    "# True\n",
    " \n",
    " \n",
    "# The less than < operator checks if the left string has a lower \n",
    "# Unicode value than the right string. If you reference the Unicode \n",
    "# chart above, you can see that all lowercase letters have higher \n",
    "# Unicode values than uppercase letters. We can see that B has a \n",
    "# Unicode value of 66 and b has a Unicode value of 98. This \n",
    "# comparison is the same as 66 < 98, which is true. So, Python will \n",
    "# return a True result.\n",
    "print(\"Brown\" < \"brown\")\n",
    "# True\n",
    "\n",
    "\n",
    "# If the strings have the same first few letters, the comparison will \n",
    "# cycle through each letter of each string, from left to right until it \n",
    "# finds two letters that have different Unicode values. In this example, \n",
    "# both strings share the initial substring \"sun\", but then have \n",
    "# different letters with different Unicode values in the fourth place \n",
    "# in each string. So, the fourth letters 'b' and 't' of the two\n",
    "# strings are used for the comparison. Since 'b' does not have a higher\n",
    "# Unicode value than 't', the comparison returns a False result.\n",
    "print(\"sunbathe\" > \"suntan\")\n",
    "# False\n",
    "\n",
    "\n",
    "# If two identical strings are compared using the less than < comparison\n",
    "# operator, this will produce a False result because they are equal.\n",
    "print(\"Lima\" < \"Lima\")\n",
    "# False\n",
    "\n",
    "\n",
    "# This last example illustrates the result of trying to compare two\n",
    "# items of different data types using the less than < operator. The \n",
    "# greater than > and less than operators < cannot be used to compare\n",
    "# two different data types. \n",
    "print(\"Five\" < 6)\n",
    "\n",
    "\n",
    "'''\n",
    "Error on line 1:\n",
    "    print(\"Five\" < 6)\n",
    "TypeError: '<' not supported between instances of 'str' and 'int'\n",
    "\n",
    "'''\n"
   ]
  },
  {
   "cell_type": "markdown",
   "metadata": {},
   "source": [
    "# PART 3: The Greater Than or Equal To >= and Less Than or Equal To <= Operators"
   ]
  },
  {
   "cell_type": "markdown",
   "metadata": {},
   "source": [
    "1. \"my computer\" >= \"my chair\"\n",
    "2. \"Spring\" <= \"Winter\"\n",
    "3. \"pineapple\" >= \"pineapple\""
   ]
  },
  {
   "cell_type": "code",
   "execution_count": 3,
   "metadata": {},
   "outputs": [
    {
     "name": "stdout",
     "output_type": "stream",
     "text": [
      "Is \"my computer\" greater than or equal to \"my chair\"? Result:  True\n",
      "Is \"Spring\" less than or equal to \"Winter\"? Result:  True\n",
      "Is \"pineapple\" less than or equal to \"pineapple\"? Result:  True\n"
     ]
    }
   ],
   "source": [
    "# Use the Unicode chart in Part 2 to determine if the Unicode values of \n",
    "# the first letters of each string are higher, lower, or equal to one\n",
    "# another. \n",
    "\n",
    "\n",
    "var1 = \"my computer\" >= \"my chair\"\n",
    "var2 = \"Spring\" <= \"Winter\"\n",
    "var3 = \"pineapple\" >= \"pineapple\"\n",
    " \n",
    "print(\"Is \\\"my computer\\\" greater than or equal to \\\"my chair\\\"? Result: \", var1)\n",
    "print(\"Is \\\"Spring\\\" less than or equal to \\\"Winter\\\"? Result: \", var2)\n",
    "print(\"Is \\\"pineapple\\\" less than or equal to \\\"pineapple\\\"? Result: \", var3)"
   ]
  }
 ],
 "metadata": {
  "kernelspec": {
   "display_name": "Python 3",
   "language": "python",
   "name": "python3"
  },
  "language_info": {
   "codemirror_mode": {
    "name": "ipython",
    "version": 3
   },
   "file_extension": ".py",
   "mimetype": "text/x-python",
   "name": "python",
   "nbconvert_exporter": "python",
   "pygments_lexer": "ipython3",
   "version": "3.12.4"
  }
 },
 "nbformat": 4,
 "nbformat_minor": 2
}
