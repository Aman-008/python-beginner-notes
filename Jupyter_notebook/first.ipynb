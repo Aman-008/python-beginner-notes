{
 "cells": [
  {
   "cell_type": "code",
   "execution_count": 6,
   "metadata": {},
   "outputs": [
    {
     "name": "stdout",
     "output_type": "stream",
     "text": [
      "Hello\n"
     ]
    }
   ],
   "source": [
    "print(\"Hello\")"
   ]
  },
  {
   "cell_type": "code",
   "execution_count": 7,
   "metadata": {},
   "outputs": [
    {
     "name": "stdout",
     "output_type": "stream",
     "text": [
      "<class 'str'>\n"
     ]
    }
   ],
   "source": [
    "# type()\n",
    "b = \"World\"\n",
    "print(type(b))"
   ]
  },
  {
   "cell_type": "code",
   "execution_count": 8,
   "metadata": {},
   "outputs": [
    {
     "name": "stdout",
     "output_type": "stream",
     "text": [
      "<class 'float'>\n"
     ]
    }
   ],
   "source": [
    "# type()\n",
    "c = 10.5 \n",
    "print(type(c))"
   ]
  },
  {
   "cell_type": "code",
   "execution_count": 3,
   "metadata": {},
   "outputs": [
    {
     "name": "stdout",
     "output_type": "stream",
     "text": [
      "<class 'int'>\n"
     ]
    }
   ],
   "source": [
    "# type ()\n",
    "a = 10\n",
    "print(type(a))"
   ]
  },
  {
   "cell_type": "markdown",
   "metadata": {},
   "source": [
    "Using Input\n"
   ]
  },
  {
   "cell_type": "code",
   "execution_count": 9,
   "metadata": {},
   "outputs": [
    {
     "name": "stdout",
     "output_type": "stream",
     "text": [
      "A :  10\n"
     ]
    }
   ],
   "source": [
    "a = input(\"Enter the value of a\")\n",
    "print(\"A : \", a)"
   ]
  },
  {
   "cell_type": "markdown",
   "metadata": {},
   "source": [
    "Comments\n"
   ]
  },
  {
   "cell_type": "code",
   "execution_count": null,
   "metadata": {},
   "outputs": [],
   "source": [
    "#single line comments\n",
    "\n",
    "# we can type anything in comments\n",
    "# This is  a single line comments \n",
    "# we can always use (#) symbol in single line comments\n"
   ]
  },
  {
   "cell_type": "code",
   "execution_count": null,
   "metadata": {},
   "outputs": [],
   "source": [
    "# multiline comments\n",
    "\n",
    "'''This is \n",
    "a multiline\n",
    "comments in \n",
    "python'''"
   ]
  },
  {
   "cell_type": "markdown",
   "metadata": {},
   "source": [
    "KeyWords"
   ]
  },
  {
   "cell_type": "code",
   "execution_count": 10,
   "metadata": {},
   "outputs": [
    {
     "name": "stdout",
     "output_type": "stream",
     "text": [
      "\n",
      "Here is a list of the Python keywords.  Enter any keyword to get more help.\n",
      "\n",
      "False               class               from                or\n",
      "None                continue            global              pass\n",
      "True                def                 if                  raise\n",
      "and                 del                 import              return\n",
      "as                  elif                in                  try\n",
      "assert              else                is                  while\n",
      "async               except              lambda              with\n",
      "await               finally             nonlocal            yield\n",
      "break               for                 not                 \n",
      "\n"
     ]
    }
   ],
   "source": [
    "help(\"keywords\")"
   ]
  },
  {
   "cell_type": "markdown",
   "metadata": {},
   "source": [
    "DataTypes"
   ]
  },
  {
   "cell_type": "markdown",
   "metadata": {},
   "source": [
    "1. Data types are used before the veriable, to know which type of values  are stored in veriable.\n",
    "2. Data types are actually classes and veriables are instence (objects) of these classes"
   ]
  },
  {
   "cell_type": "markdown",
   "metadata": {},
   "source": [
    "1. Numeric - integer, float, complex number\n",
    "2. Boolean - True, False\n",
    "3. Set\n",
    "4. Dictionary \n",
    "5. Sequence - List, Tuple, String"
   ]
  },
  {
   "cell_type": "code",
   "execution_count": 11,
   "metadata": {},
   "outputs": [
    {
     "name": "stdout",
     "output_type": "stream",
     "text": [
      "<class 'int'>\n",
      "<class 'float'>\n",
      "<class 'complex'>\n"
     ]
    }
   ],
   "source": [
    "# int DataType\n",
    "a = 10\n",
    "print(type(a))\n",
    "\n",
    "# float DataType\n",
    "b = 10.5\n",
    "print(type(b))\n",
    "\n",
    "# complex DataType\n",
    "c = 2 + 4j\n",
    "print(type(c))"
   ]
  },
  {
   "cell_type": "markdown",
   "metadata": {},
   "source": [
    "Boolean"
   ]
  },
  {
   "cell_type": "code",
   "execution_count": 12,
   "metadata": {},
   "outputs": [
    {
     "name": "stdout",
     "output_type": "stream",
     "text": [
      "<class 'bool'>\n",
      "<class 'bool'>\n"
     ]
    }
   ],
   "source": [
    "d = True\n",
    "print(type(d))\n",
    "\n",
    "e = False\n",
    "print(type(e))"
   ]
  },
  {
   "cell_type": "markdown",
   "metadata": {},
   "source": [
    "Set DataType"
   ]
  },
  {
   "cell_type": "markdown",
   "metadata": {},
   "source": [
    "1. Sets are used to store multiple items in a single variable.\n",
    "2. A set is a collection which is unordered, unchangeable*, and unindexed."
   ]
  },
  {
   "cell_type": "code",
   "execution_count": 13,
   "metadata": {},
   "outputs": [
    {
     "name": "stdout",
     "output_type": "stream",
     "text": [
      "<class 'set'>\n"
     ]
    }
   ],
   "source": [
    "f = {'a', 'b', 'c'}\n",
    "print(type(f))"
   ]
  },
  {
   "cell_type": "markdown",
   "metadata": {},
   "source": [
    "Dictionary DataType"
   ]
  },
  {
   "cell_type": "code",
   "execution_count": 14,
   "metadata": {},
   "outputs": [
    {
     "name": "stdout",
     "output_type": "stream",
     "text": [
      "<class 'dict'>\n"
     ]
    }
   ],
   "source": [
    "x = {\"Key\":\"Value\"}\n",
    "print(type(x))"
   ]
  },
  {
   "cell_type": "markdown",
   "metadata": {},
   "source": [
    "Sequence DataType"
   ]
  },
  {
   "cell_type": "code",
   "execution_count": 16,
   "metadata": {},
   "outputs": [
    {
     "name": "stdout",
     "output_type": "stream",
     "text": [
      "<class 'list'>\n",
      "<class 'str'>\n",
      "<class 'tuple'>\n"
     ]
    }
   ],
   "source": [
    "# List DataType\n",
    "l1 = [1,2,3,4,5]\n",
    "print(type(l1))\n",
    "\n",
    "# String DataType\n",
    "y = \"Python Program\"\n",
    "print(type(y))\n",
    "\n",
    "# Tuple DataType\n",
    "z = (1,2,3,4,5)\n",
    "print(type(z))"
   ]
  },
  {
   "cell_type": "markdown",
   "metadata": {},
   "source": [
    "Variable"
   ]
  },
  {
   "cell_type": "markdown",
   "metadata": {},
   "source": [
    "1. Variable are names to store the value\n",
    "2. Rules of Variable\n",
    "    1. variable should start with alphabets only\n",
    "    2. variable name should not have whitespace\n",
    "    3. we cannot use dataType name as a variable name\n",
    "    4. variable name are significant"
   ]
  },
  {
   "cell_type": "code",
   "execution_count": 21,
   "metadata": {},
   "outputs": [
    {
     "name": "stdout",
     "output_type": "stream",
     "text": [
      "10\n",
      "<class 'int'>\n",
      "10.5\n",
      "<class 'float'>\n",
      "python\n",
      "<class 'str'>\n",
      "[1, 2, 3, 4, 5]\n",
      "<class 'list'>\n",
      "(1, 2, 3, 4, 5)\n",
      "<class 'tuple'>\n"
     ]
    }
   ],
   "source": [
    "# int value to the variable\n",
    "a = 10\n",
    "print(a)\n",
    "print(type(a))\n",
    "\n",
    "# float value to the variable\n",
    "b = 10.5\n",
    "print(b)   \n",
    "print(type(b))\n",
    "\n",
    "# string value to the variable\n",
    "c = \"python\"\n",
    "print(c)\n",
    "print(type(c))\n",
    "\n",
    "# list store ub the variable\n",
    "l1 = [1,2,3,4,5]\n",
    "print(l1)\n",
    "print(type(l1))\n",
    "\n",
    "\n",
    "# tuple store in the variable\n",
    "t1 = (1,2,3,4,5)\n",
    "print(t1)\n",
    "print(type(t1))\n"
   ]
  },
  {
   "cell_type": "markdown",
   "metadata": {},
   "source": [
    "TypeConversion/TypeCasting"
   ]
  },
  {
   "cell_type": "code",
   "execution_count": 23,
   "metadata": {},
   "outputs": [
    {
     "name": "stdout",
     "output_type": "stream",
     "text": [
      "A :  10\n",
      "<class 'int'>\n"
     ]
    }
   ],
   "source": [
    "# converting from one datatype to another datatype called \n",
    "# typeCoversion / typeCasting\n",
    "\n",
    "a = int(input(\"Enter the value of A : \")) #default type is string\n",
    "print(\"A : \", a)\n",
    "print(type(a))\n"
   ]
  },
  {
   "cell_type": "markdown",
   "metadata": {},
   "source": [
    "Operators\n"
   ]
  },
  {
   "cell_type": "markdown",
   "metadata": {},
   "source": [
    "1. Operators are used to perform operations on variables and values in python\n",
    "2. Type of Operators :\n",
    "    1. Arithmetic Operators (+, -, *, /, %(modules), ++(increment), --(decrement))\n",
    "    2. Assignment Operators (=, +=, -=, *=, /=, %=, <<=, >>=, >>>=, &=, ^=, |=)\n",
    "    3. Comparison Operators (>, <, <=, >=, ==, !=, ===(Equal value and same type), !===(Not equal value and not same type))\n",
    "    4. Logical Operators (And, Or, Not)\n",
    "    5. Identity Operators (Is(return true if both variable are same object), Is Not(return true if both variable are not same object))\n",
    "    6. Membership Operators (In (Return true if a sequence with the specified value is present in the object), Not In (Return true if a sequence with the specified value is not present in the object))\n"
   ]
  },
  {
   "cell_type": "markdown",
   "metadata": {},
   "source": [
    "Arithmetic Operators\n"
   ]
  },
  {
   "cell_type": "code",
   "execution_count": 24,
   "metadata": {},
   "outputs": [
    {
     "name": "stdout",
     "output_type": "stream",
     "text": [
      "Answer :  15\n"
     ]
    }
   ],
   "source": [
    "# Addition Operators\n",
    "x = 5\n",
    "y = 10\n",
    "z = x+y\n",
    "print(\"Answer : \", z )"
   ]
  },
  {
   "cell_type": "code",
   "execution_count": 25,
   "metadata": {},
   "outputs": [
    {
     "name": "stdout",
     "output_type": "stream",
     "text": [
      "Subtract :  5\n"
     ]
    }
   ],
   "source": [
    "# Substraction Operators\n",
    "x = 10\n",
    "y = 5\n",
    "z = x-y\n",
    "print(\"Subtract : \", z)"
   ]
  },
  {
   "cell_type": "code",
   "execution_count": 1,
   "metadata": {},
   "outputs": [
    {
     "name": "stdout",
     "output_type": "stream",
     "text": [
      "Answer :  40\n"
     ]
    }
   ],
   "source": [
    "# Multiplication Operator\n",
    "x = 10\n",
    "y = 4\n",
    "z = x*y\n",
    "print(\"Answer : \", z)"
   ]
  },
  {
   "cell_type": "code",
   "execution_count": 3,
   "metadata": {},
   "outputs": [
    {
     "name": "stdout",
     "output_type": "stream",
     "text": [
      "Answer :  4\n"
     ]
    }
   ],
   "source": [
    "# Devision Operator\n",
    "x = 20\n",
    "y = 5\n",
    "z = int(x/y) # default value is float\n",
    "print(\"Answer : \", z)"
   ]
  },
  {
   "cell_type": "code",
   "execution_count": 4,
   "metadata": {},
   "outputs": [
    {
     "name": "stdout",
     "output_type": "stream",
     "text": [
      "Answer :  1\n"
     ]
    }
   ],
   "source": [
    "# Modules Operator\n",
    "x = 7\n",
    "y = 3\n",
    "z = x%y\n",
    "print(\"Answer : \", z)"
   ]
  },
  {
   "cell_type": "code",
   "execution_count": null,
   "metadata": {},
   "outputs": [],
   "source": [
    "# Increment Operator\n",
    "a = 5\n"
   ]
  }
 ],
 "metadata": {
  "kernelspec": {
   "display_name": "Python 3",
   "language": "python",
   "name": "python3"
  },
  "language_info": {
   "codemirror_mode": {
    "name": "ipython",
    "version": 3
   },
   "file_extension": ".py",
   "mimetype": "text/x-python",
   "name": "python",
   "nbconvert_exporter": "python",
   "pygments_lexer": "ipython3",
   "version": "3.12.4"
  }
 },
 "nbformat": 4,
 "nbformat_minor": 2
}
