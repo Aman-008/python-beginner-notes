{
 "cells": [
  {
   "cell_type": "code",
   "execution_count": 11,
   "metadata": {},
   "outputs": [
    {
     "name": "stdout",
     "output_type": "stream",
     "text": [
      "Hello\n"
     ]
    }
   ],
   "source": [
    "print(\"Hello\")"
   ]
  },
  {
   "cell_type": "code",
   "execution_count": 12,
   "metadata": {},
   "outputs": [
    {
     "name": "stdout",
     "output_type": "stream",
     "text": [
      "<class 'str'>\n"
     ]
    }
   ],
   "source": [
    "# type()\n",
    "b = \"World\"\n",
    "print(type(b))"
   ]
  },
  {
   "cell_type": "code",
   "execution_count": 13,
   "metadata": {},
   "outputs": [
    {
     "name": "stdout",
     "output_type": "stream",
     "text": [
      "<class 'float'>\n"
     ]
    }
   ],
   "source": [
    "# type()\n",
    "c = 10.5 \n",
    "print(type(c))"
   ]
  },
  {
   "cell_type": "code",
   "execution_count": 14,
   "metadata": {},
   "outputs": [
    {
     "name": "stdout",
     "output_type": "stream",
     "text": [
      "<class 'int'>\n"
     ]
    }
   ],
   "source": [
    "# type ()\n",
    "a = 10\n",
    "print(type(a))"
   ]
  },
  {
   "cell_type": "markdown",
   "metadata": {},
   "source": [
    "# Using Input"
   ]
  },
  {
   "cell_type": "code",
   "execution_count": 15,
   "metadata": {},
   "outputs": [
    {
     "name": "stdout",
     "output_type": "stream",
     "text": [
      "A :  10\n"
     ]
    }
   ],
   "source": [
    "a = input(\"Enter the value of a\")\n",
    "print(\"A : \", a)"
   ]
  },
  {
   "cell_type": "markdown",
   "metadata": {},
   "source": [
    "# Comments"
   ]
  },
  {
   "cell_type": "code",
   "execution_count": 16,
   "metadata": {},
   "outputs": [],
   "source": [
    "#single line comments\n",
    "\n",
    "# we can type anything in comments\n",
    "# This is  a single line comments \n",
    "# we can always use (#) symbol in single line comments\n"
   ]
  },
  {
   "cell_type": "code",
   "execution_count": 17,
   "metadata": {},
   "outputs": [
    {
     "data": {
      "text/plain": [
       "'This is \\na multiline\\ncomments in \\npython'"
      ]
     },
     "execution_count": 17,
     "metadata": {},
     "output_type": "execute_result"
    }
   ],
   "source": [
    "# multiline comments\n",
    "\n",
    "'''This is \n",
    "a multiline\n",
    "comments in \n",
    "python'''"
   ]
  },
  {
   "cell_type": "markdown",
   "metadata": {},
   "source": [
    "# KeyWords"
   ]
  },
  {
   "cell_type": "code",
   "execution_count": 18,
   "metadata": {},
   "outputs": [
    {
     "name": "stdout",
     "output_type": "stream",
     "text": [
      "\n",
      "Here is a list of the Python keywords.  Enter any keyword to get more help.\n",
      "\n",
      "False               class               from                or\n",
      "None                continue            global              pass\n",
      "True                def                 if                  raise\n",
      "and                 del                 import              return\n",
      "as                  elif                in                  try\n",
      "assert              else                is                  while\n",
      "async               except              lambda              with\n",
      "await               finally             nonlocal            yield\n",
      "break               for                 not                 \n",
      "\n"
     ]
    }
   ],
   "source": [
    "help(\"keywords\")"
   ]
  },
  {
   "cell_type": "markdown",
   "metadata": {},
   "source": [
    "# DataTypes"
   ]
  },
  {
   "cell_type": "markdown",
   "metadata": {},
   "source": [
    "1. Data types are used before the veriable, to know which type of values  are stored in veriable.\n",
    "2. Data types are actually classes and veriables are instence (objects) of these classes"
   ]
  },
  {
   "cell_type": "markdown",
   "metadata": {},
   "source": [
    "1. Numeric - integer, float, complex number\n",
    "2. Boolean - True, False\n",
    "3. Set\n",
    "4. Dictionary \n",
    "5. Sequence - List, Tuple, String"
   ]
  },
  {
   "cell_type": "code",
   "execution_count": 19,
   "metadata": {},
   "outputs": [
    {
     "name": "stdout",
     "output_type": "stream",
     "text": [
      "<class 'int'>\n",
      "<class 'float'>\n",
      "<class 'complex'>\n"
     ]
    }
   ],
   "source": [
    "# int DataType\n",
    "a = 10\n",
    "print(type(a))\n",
    "\n",
    "# float DataType\n",
    "b = 10.5\n",
    "print(type(b))\n",
    "\n",
    "# complex DataType\n",
    "c = 2 + 4j\n",
    "print(type(c))"
   ]
  },
  {
   "cell_type": "markdown",
   "metadata": {},
   "source": [
    "# Boolean"
   ]
  },
  {
   "cell_type": "code",
   "execution_count": 20,
   "metadata": {},
   "outputs": [
    {
     "name": "stdout",
     "output_type": "stream",
     "text": [
      "<class 'bool'>\n",
      "<class 'bool'>\n"
     ]
    }
   ],
   "source": [
    "d = True\n",
    "print(type(d))\n",
    "\n",
    "e = False\n",
    "print(type(e))"
   ]
  },
  {
   "cell_type": "markdown",
   "metadata": {},
   "source": [
    "# Set DataType"
   ]
  },
  {
   "cell_type": "markdown",
   "metadata": {},
   "source": [
    "1. Sets are used to store multiple items in a single variable.\n",
    "2. A set is a collection which is unordered, unchangeable*, and unindexed."
   ]
  },
  {
   "cell_type": "code",
   "execution_count": 21,
   "metadata": {},
   "outputs": [
    {
     "name": "stdout",
     "output_type": "stream",
     "text": [
      "<class 'set'>\n"
     ]
    }
   ],
   "source": [
    "f = {'a', 'b', 'c'}\n",
    "print(type(f))"
   ]
  },
  {
   "cell_type": "markdown",
   "metadata": {},
   "source": [
    "# Dictionary DataType"
   ]
  },
  {
   "cell_type": "code",
   "execution_count": 22,
   "metadata": {},
   "outputs": [
    {
     "name": "stdout",
     "output_type": "stream",
     "text": [
      "<class 'dict'>\n"
     ]
    }
   ],
   "source": [
    "x = {\"Key\":\"Value\"}\n",
    "print(type(x))"
   ]
  },
  {
   "cell_type": "markdown",
   "metadata": {},
   "source": [
    "# Sequence DataType"
   ]
  },
  {
   "cell_type": "code",
   "execution_count": 23,
   "metadata": {},
   "outputs": [
    {
     "name": "stdout",
     "output_type": "stream",
     "text": [
      "<class 'list'>\n",
      "<class 'str'>\n",
      "<class 'tuple'>\n"
     ]
    }
   ],
   "source": [
    "# List DataType\n",
    "l1 = [1,2,3,4,5]\n",
    "print(type(l1))\n",
    "\n",
    "# String DataType\n",
    "y = \"Python Program\"\n",
    "print(type(y))\n",
    "\n",
    "# Tuple DataType\n",
    "z = (1,2,3,4,5)\n",
    "print(type(z))"
   ]
  },
  {
   "cell_type": "markdown",
   "metadata": {},
   "source": [
    "# Variable"
   ]
  },
  {
   "cell_type": "markdown",
   "metadata": {},
   "source": [
    "1. Variable are names to store the value\n",
    "2. Rules of Variable\n",
    "    1. variable should start with alphabets only\n",
    "    2. variable name should not have whitespace\n",
    "    3. we cannot use dataType name as a variable name\n",
    "    4. variable name are significant"
   ]
  },
  {
   "cell_type": "code",
   "execution_count": 24,
   "metadata": {},
   "outputs": [
    {
     "name": "stdout",
     "output_type": "stream",
     "text": [
      "10\n",
      "<class 'int'>\n",
      "10.5\n",
      "<class 'float'>\n",
      "python\n",
      "<class 'str'>\n",
      "[1, 2, 3, 4, 5]\n",
      "<class 'list'>\n",
      "(1, 2, 3, 4, 5)\n",
      "<class 'tuple'>\n"
     ]
    }
   ],
   "source": [
    "# int value to the variable\n",
    "a = 10\n",
    "print(a)\n",
    "print(type(a))\n",
    "\n",
    "# float value to the variable\n",
    "b = 10.5\n",
    "print(b)   \n",
    "print(type(b))\n",
    "\n",
    "# string value to the variable\n",
    "c = \"python\"\n",
    "print(c)\n",
    "print(type(c))\n",
    "\n",
    "# list store ub the variable\n",
    "l1 = [1,2,3,4,5]\n",
    "print(l1)\n",
    "print(type(l1))\n",
    "\n",
    "\n",
    "# tuple store in the variable\n",
    "t1 = (1,2,3,4,5)\n",
    "print(t1)\n",
    "print(type(t1))\n"
   ]
  },
  {
   "cell_type": "markdown",
   "metadata": {},
   "source": [
    "# TypeConversion/TypeCasting"
   ]
  },
  {
   "cell_type": "code",
   "execution_count": 25,
   "metadata": {},
   "outputs": [
    {
     "name": "stdout",
     "output_type": "stream",
     "text": [
      "A :  23\n",
      "<class 'int'>\n"
     ]
    }
   ],
   "source": [
    "# converting from one datatype to another datatype called \n",
    "# typeCoversion / typeCasting\n",
    "\n",
    "a = int(input(\"Enter the value of A : \")) #default type is string\n",
    "print(\"A : \", a)\n",
    "print(type(a))\n"
   ]
  },
  {
   "cell_type": "markdown",
   "metadata": {},
   "source": [
    "# Operators"
   ]
  },
  {
   "cell_type": "markdown",
   "metadata": {},
   "source": [
    "1. Operators are used to perform operations on variables and values in python\n",
    "2. Type of Operators :\n",
    "    1. Arithmetic Operators (+, -, *, /, %(modules), ++(increment), --(decrement))\n",
    "    2. Assignment Operators (=, +=, -=, *=, /=, %=, <<=, >>=, >>>=, &=, ^=, |=)\n",
    "    3. Comparsion Operators (>, <, <=, >=, ==, !=, ===(Equal value and same type), !===(Not equal value and not same type))\n",
    "    4. Logical Operators (And, Or, Not)\n",
    "    5. Identity Operators (Is(return true if both variable are same object), Is Not(return true if both variable are not same object))\n",
    "    6. Membership Operators (In (Return true if a sequence with the specified value is present in the object), Not In (Return true if a sequence with the specified value is not present in the object))\n"
   ]
  },
  {
   "cell_type": "markdown",
   "metadata": {},
   "source": [
    "# Arithmetic Operators\n"
   ]
  },
  {
   "cell_type": "code",
   "execution_count": 26,
   "metadata": {},
   "outputs": [
    {
     "name": "stdout",
     "output_type": "stream",
     "text": [
      "Answer :  15\n"
     ]
    }
   ],
   "source": [
    "# Addition Operators\n",
    "x = 5\n",
    "y = 10\n",
    "z = x+y\n",
    "print(\"Answer : \", z )"
   ]
  },
  {
   "cell_type": "code",
   "execution_count": 27,
   "metadata": {},
   "outputs": [
    {
     "name": "stdout",
     "output_type": "stream",
     "text": [
      "Subtract :  5\n"
     ]
    }
   ],
   "source": [
    "# Substraction Operators\n",
    "x = 10\n",
    "y = 5\n",
    "z = x-y\n",
    "print(\"Subtract : \", z)"
   ]
  },
  {
   "cell_type": "code",
   "execution_count": 28,
   "metadata": {},
   "outputs": [
    {
     "name": "stdout",
     "output_type": "stream",
     "text": [
      "Answer :  40\n"
     ]
    }
   ],
   "source": [
    "# Multiplication Operator\n",
    "x = 10\n",
    "y = 4\n",
    "z = x*y\n",
    "print(\"Answer : \", z)"
   ]
  },
  {
   "cell_type": "code",
   "execution_count": 29,
   "metadata": {},
   "outputs": [
    {
     "name": "stdout",
     "output_type": "stream",
     "text": [
      "Answer :  4\n"
     ]
    }
   ],
   "source": [
    "# Devision Operator\n",
    "x = 20\n",
    "y = 5\n",
    "z = int(x/y) # default value is float\n",
    "print(\"Answer : \", z)"
   ]
  },
  {
   "cell_type": "code",
   "execution_count": 30,
   "metadata": {},
   "outputs": [
    {
     "name": "stdout",
     "output_type": "stream",
     "text": [
      "Answer :  1\n"
     ]
    }
   ],
   "source": [
    "# Modules Operator\n",
    "x = 7\n",
    "y = 3\n",
    "z = x%y\n",
    "print(\"Answer : \", z)"
   ]
  },
  {
   "cell_type": "markdown",
   "metadata": {},
   "source": [
    "# Assignment Operator"
   ]
  },
  {
   "cell_type": "code",
   "execution_count": 31,
   "metadata": {},
   "outputs": [
    {
     "name": "stdout",
     "output_type": "stream",
     "text": [
      "x :  5\n"
     ]
    }
   ],
   "source": [
    "# Equalto Operator\n",
    "x = 5\n",
    "print(\"x : \", x)"
   ]
  },
  {
   "cell_type": "code",
   "execution_count": 32,
   "metadata": {},
   "outputs": [
    {
     "name": "stdout",
     "output_type": "stream",
     "text": [
      "X :  6\n"
     ]
    }
   ],
   "source": [
    "# Addition and Equalto Operator\n",
    "x = 5\n",
    "x += 1 # x = x+1\n",
    "print(\"X : \", x)"
   ]
  },
  {
   "cell_type": "code",
   "execution_count": 33,
   "metadata": {},
   "outputs": [
    {
     "name": "stdout",
     "output_type": "stream",
     "text": [
      "X :  6\n"
     ]
    }
   ],
   "source": [
    "# Substraction and Equalto Operator\n",
    "x = 7\n",
    "x -= 1 # x = x - 1\n",
    "print(\"X : \", x)"
   ]
  },
  {
   "cell_type": "markdown",
   "metadata": {},
   "source": [
    "# Comparsion Operator"
   ]
  },
  {
   "cell_type": "code",
   "execution_count": 34,
   "metadata": {},
   "outputs": [
    {
     "name": "stdout",
     "output_type": "stream",
     "text": [
      "True\n"
     ]
    }
   ],
   "source": [
    "# Equalto-Equalto Operator\n",
    "x = 3\n",
    "# y = 4\n",
    "y = 3\n",
    "print(x==y)"
   ]
  },
  {
   "cell_type": "code",
   "execution_count": 35,
   "metadata": {},
   "outputs": [
    {
     "name": "stdout",
     "output_type": "stream",
     "text": [
      "True\n"
     ]
    }
   ],
   "source": [
    "# not Equalto operator\n",
    "x = 5\n",
    "y = 3\n",
    "print(x!=y)"
   ]
  },
  {
   "cell_type": "code",
   "execution_count": 36,
   "metadata": {},
   "outputs": [
    {
     "name": "stdout",
     "output_type": "stream",
     "text": [
      "True\n"
     ]
    }
   ],
   "source": [
    "# Greater than equalto\n",
    "x = 7\n",
    "y = 3\n",
    "print(x>=y)"
   ]
  },
  {
   "cell_type": "markdown",
   "metadata": {},
   "source": [
    "# Logical Operator"
   ]
  },
  {
   "cell_type": "code",
   "execution_count": 37,
   "metadata": {},
   "outputs": [
    {
     "name": "stdout",
     "output_type": "stream",
     "text": [
      "False\n"
     ]
    }
   ],
   "source": [
    "# And Operator\n",
    "x = 5\n",
    "print(x>3 and x<4) # if both the condition is true then the answer is true"
   ]
  },
  {
   "cell_type": "code",
   "execution_count": 38,
   "metadata": {},
   "outputs": [
    {
     "name": "stdout",
     "output_type": "stream",
     "text": [
      "True\n"
     ]
    }
   ],
   "source": [
    "# Or Operator\n",
    "x = 5\n",
    "print(x>3 or x>7) # if one of the condition is true then or return true"
   ]
  },
  {
   "cell_type": "markdown",
   "metadata": {},
   "source": [
    "# Identity Operator"
   ]
  },
  {
   "cell_type": "code",
   "execution_count": 39,
   "metadata": {},
   "outputs": [
    {
     "name": "stdout",
     "output_type": "stream",
     "text": [
      "False\n",
      "True\n"
     ]
    }
   ],
   "source": [
    "# Is Operator\n",
    "x = [\"Apple\", \"Mango\"]\n",
    "y = [\"Apple\", \"Mango\"]\n",
    "z = x\n",
    "print(x is y) # the object is not matching that's why it gives as false\n",
    "\n",
    "print(x is z) # the object is matching that's why it returns true"
   ]
  },
  {
   "cell_type": "markdown",
   "metadata": {},
   "source": [
    "# Membership Operator"
   ]
  },
  {
   "cell_type": "code",
   "execution_count": 40,
   "metadata": {},
   "outputs": [
    {
     "name": "stdout",
     "output_type": "stream",
     "text": [
      "False\n",
      "True\n"
     ]
    }
   ],
   "source": [
    "# In operator\n",
    "x = [\"Apple\", \"Mango\"]\n",
    "print(\"Banana\" in x) # banana is not in x that's why it returns false\n",
    "print(\"Grapes\" not in x) # Grapes is not in x that's why it returns true"
   ]
  },
  {
   "cell_type": "markdown",
   "metadata": {},
   "source": [
    "# Operator Precedence\n"
   ]
  },
  {
   "cell_type": "markdown",
   "metadata": {},
   "source": [
    "1. which operator evaluates first can be confusing. So we have some rules for this too. This is the precedence table that denotes which operator evaluates first.\n",
    "2. We use brackets() to avoid the precedence"
   ]
  },
  {
   "cell_type": "code",
   "execution_count": 41,
   "metadata": {},
   "outputs": [
    {
     "name": "stdout",
     "output_type": "stream",
     "text": [
      "13\n"
     ]
    }
   ],
   "source": [
    "values = (1+1)*2**4//3+4-1\n",
    "#           2*2**4//3+4-1\n",
    "#           2*16//3+4-1\n",
    "#           32//3+4-1\n",
    "#           10+4-1\n",
    "#           14-1\n",
    "#           13\n",
    "print(values)"
   ]
  },
  {
   "cell_type": "markdown",
   "metadata": {},
   "source": [
    "// \n",
    "\n",
    "note - Floor division is a division operation that returns the largest integer that is less than or equal to the result of the division. In Python, it is denoted by the double forward slash ‘//’.\n",
    "\n",
    "Example\n",
    "\n",
    "If we divide 7 by 3 using floor division, we get:\n",
    "\n",
    "2"
   ]
  },
  {
   "cell_type": "code",
   "execution_count": 42,
   "metadata": {},
   "outputs": [
    {
     "name": "stdout",
     "output_type": "stream",
     "text": [
      "X :  90.0\n"
     ]
    }
   ],
   "source": [
    "a = 20\n",
    "b = 10 \n",
    "c = 15 \n",
    "d = 5\n",
    "x = (((a+b)*c)/d)\n",
    "print(\"X : \", x)"
   ]
  },
  {
   "cell_type": "markdown",
   "metadata": {},
   "source": [
    "# Assignments\n",
    "\n",
    "    Question 1.\n",
    "        Write a program to print a string \"Hello Python\".\n",
    "\n",
    "    Question 2. \n",
    "        Write a program to store one value in variable and print that variable.\n",
    "\n",
    "    Question 3. \n",
    "        Write a program to take value from user input and print that value.\n",
    "\n",
    "    Question 4.\n",
    "        Write a program to do a sum of two values.\n",
    "\n",
    "    Question 5.\n",
    "        Write a program to perform devision using variables\n",
    "    \n",
    "    Question 6. \n",
    "        Write a program to print multiple value of variables\n",
    "    \n",
    "    Question 7. \n",
    "        Write a program to find a type of variable\n",
    "    \n",
    "    Question 8. \n",
    "        Write a program to take two integer value from the user and check both values are same"
   ]
  },
  {
   "cell_type": "code",
   "execution_count": 43,
   "metadata": {},
   "outputs": [
    {
     "name": "stdout",
     "output_type": "stream",
     "text": [
      "Hello Python\n"
     ]
    }
   ],
   "source": [
    "# Question 1.\n",
    "print(\"Hello Python\")"
   ]
  },
  {
   "cell_type": "code",
   "execution_count": 44,
   "metadata": {},
   "outputs": [
    {
     "name": "stdout",
     "output_type": "stream",
     "text": [
      "Namaste\n"
     ]
    }
   ],
   "source": [
    "# Question 2.\n",
    "x = \"Namaste\"\n",
    "print(x)"
   ]
  },
  {
   "cell_type": "code",
   "execution_count": 45,
   "metadata": {},
   "outputs": [
    {
     "name": "stdout",
     "output_type": "stream",
     "text": [
      "the value of x is :  344\n"
     ]
    }
   ],
   "source": [
    "# Question 3\n",
    "x = input(\"Enter the value of x : \")\n",
    "print(\"the value of x is : \", x)"
   ]
  },
  {
   "cell_type": "code",
   "execution_count": 46,
   "metadata": {},
   "outputs": [
    {
     "name": "stdout",
     "output_type": "stream",
     "text": [
      "11\n"
     ]
    }
   ],
   "source": [
    "# Question 4\n",
    "x = 4\n",
    "y = 7\n",
    "z = x+y\n",
    "print(z)"
   ]
  },
  {
   "cell_type": "code",
   "execution_count": 47,
   "metadata": {},
   "outputs": [
    {
     "name": "stdout",
     "output_type": "stream",
     "text": [
      "2.0\n"
     ]
    }
   ],
   "source": [
    "# Question 5\n",
    "x = 4\n",
    "y = 2\n",
    "print(x/y)"
   ]
  },
  {
   "cell_type": "code",
   "execution_count": 48,
   "metadata": {},
   "outputs": [
    {
     "name": "stdout",
     "output_type": "stream",
     "text": [
      "10\n",
      "5\n",
      "5\n",
      "7\n"
     ]
    }
   ],
   "source": [
    "# Question 6\n",
    "a = 10\n",
    "b = 5\n",
    "c = 5\n",
    "d = 7\n",
    "print(a)\n",
    "print(b)\n",
    "print(c)\n",
    "print(d)"
   ]
  },
  {
   "cell_type": "code",
   "execution_count": 49,
   "metadata": {},
   "outputs": [
    {
     "name": "stdout",
     "output_type": "stream",
     "text": [
      "<class 'int'>\n",
      "<class 'str'>\n",
      "<class 'float'>\n"
     ]
    }
   ],
   "source": [
    "# Question 7\n",
    "a = 5\n",
    "b = \"python\"\n",
    "c = 10.5\n",
    "print(type(a))\n",
    "print(type(b))\n",
    "print(type(c))"
   ]
  },
  {
   "cell_type": "code",
   "execution_count": 50,
   "metadata": {},
   "outputs": [
    {
     "name": "stdout",
     "output_type": "stream",
     "text": [
      "The values of a + b is  377\n"
     ]
    }
   ],
   "source": [
    "# Question 8\n",
    "a = int(input(\"Enter the value of a : \"))\n",
    "b = int(input(\"Enter the value of b : \"))\n",
    "c = a+b\n",
    "print(\"The values of a + b is \", c)"
   ]
  },
  {
   "cell_type": "markdown",
   "metadata": {},
   "source": [
    "# Swap the Variable "
   ]
  },
  {
   "cell_type": "code",
   "execution_count": 9,
   "metadata": {},
   "outputs": [
    {
     "name": "stdout",
     "output_type": "stream",
     "text": [
      "a = 7 b = 10\n"
     ]
    }
   ],
   "source": [
    "#a,b = 10,7\n",
    "a = 10\n",
    "b = 7\n",
    "a,b = b,a\n",
    "\n",
    "print(\"a =\",a ,\"b =\",b)"
   ]
  },
  {
   "cell_type": "code",
   "execution_count": 10,
   "metadata": {},
   "outputs": [
    {
     "name": "stdout",
     "output_type": "stream",
     "text": [
      "a = 6 b = 12\n"
     ]
    }
   ],
   "source": [
    "# Swap the variable\n",
    "a= 12\n",
    "b=6\n",
    "c = a\n",
    "a = b\n",
    "b = c\n",
    "\n",
    "print(\"a =\",a ,\"b =\",b)"
   ]
  },
  {
   "cell_type": "markdown",
   "metadata": {},
   "source": [
    "# Conditional Statement"
   ]
  },
  {
   "cell_type": "markdown",
   "metadata": {},
   "source": [
    "1. conditional statement in python perform different computations or actions depending on whether a specific Boolean constraint evaluates to true false.\n",
    "2. Conditional statements are handled by IF statements in Pyton\n",
    "3. Conditional statement is one type of boolean means it returns true or false"
   ]
  },
  {
   "cell_type": "markdown",
   "metadata": {},
   "source": [
    "There are 4 types of conditions\n",
    "    1. Simple if\n",
    "    2. if_else\n",
    "    3. if_else Ladder\n",
    "    4. Nested if"
   ]
  },
  {
   "cell_type": "markdown",
   "metadata": {},
   "source": [
    "# 1. Simple if"
   ]
  },
  {
   "cell_type": "code",
   "execution_count": 51,
   "metadata": {},
   "outputs": [
    {
     "name": "stdout",
     "output_type": "stream",
     "text": [
      "The value of var is :  10\n",
      "Bye\n"
     ]
    }
   ],
   "source": [
    "# Simple if\n",
    "var = 10\n",
    "if(var==10): # My condition is getting true\n",
    "    print(\"The value of var is : \", var)\n",
    "print(\"Bye\")"
   ]
  },
  {
   "cell_type": "code",
   "execution_count": 52,
   "metadata": {},
   "outputs": [
    {
     "name": "stdout",
     "output_type": "stream",
     "text": [
      "The upper condition is false\n"
     ]
    }
   ],
   "source": [
    "# Simple if\n",
    "a = 25\n",
    "if(a>=30): # my condition is getting false\n",
    "    print(\"The value of a is : \", a)\n",
    "print(\"The upper condition is false\")"
   ]
  },
  {
   "cell_type": "markdown",
   "metadata": {},
   "source": [
    "# 2. if_else"
   ]
  },
  {
   "cell_type": "code",
   "execution_count": 54,
   "metadata": {},
   "outputs": [
    {
     "name": "stdout",
     "output_type": "stream",
     "text": [
      "A is greater\n"
     ]
    }
   ],
   "source": [
    "# If_Else\n",
    "a = int(input(\"Enter the value of a : \"))\n",
    "b = int(input(\"Enter the value of b : \"))\n",
    "if(a<b):\n",
    "    print(\"B is greater \")\n",
    "else: # if the upper condition is false then this condition is true\n",
    "    print(\"A is greater\")"
   ]
  },
  {
   "cell_type": "code",
   "execution_count": null,
   "metadata": {},
   "outputs": [],
   "source": [
    "# If_Else\n",
    "a = 25\n",
    "b = 30\n",
    "if(a<b): # if the condition is true then this execute \n",
    "    print(\"B is greater\")\n",
    "else: # if the upper condition is false then this condition will execute\n",
    "    print(\"A is greater\")"
   ]
  },
  {
   "cell_type": "markdown",
   "metadata": {},
   "source": [
    "# 3. if_else Ladder"
   ]
  },
  {
   "cell_type": "code",
   "execution_count": 64,
   "metadata": {},
   "outputs": [
    {
     "name": "stdout",
     "output_type": "stream",
     "text": [
      "Fail\n"
     ]
    }
   ],
   "source": [
    "# 1) Percentage greater than 70 == Dist\n",
    "# 2) Percentage greater than or equalto 65 and less than 70 == 1st Class\n",
    "# 3) Percentage greater than or equalto 60 and less than 65 == 2nd Class\n",
    "# 4) Percentage greater than or equalto 55 and less than 60 == 3rd Class\n",
    "# 5) Percentage less than 55 == Fail\n",
    "\n",
    "\n",
    "p = int(input(\"Enter your percentage : \"))\n",
    "if(p>=70):\n",
    "    print(\"Dist\")\n",
    "elif(p>=65 and p<70): # IF the if statement is false then this code'll executed\n",
    "    print(\"1st Class\")\n",
    "elif(p>=60 and p<65):\n",
    "    print(\"2nd Class\")\n",
    "elif(p>=55 and p<60):\n",
    "    print(\"3rd Class\")\n",
    "else:\n",
    "    print(\"Fail\")"
   ]
  },
  {
   "cell_type": "markdown",
   "metadata": {},
   "source": [
    "# Nested_if\n"
   ]
  },
  {
   "cell_type": "code",
   "execution_count": 66,
   "metadata": {},
   "outputs": [
    {
     "name": "stdout",
     "output_type": "stream",
     "text": [
      "Blood Donate\n"
     ]
    }
   ],
   "source": [
    "# 1) Age>= 18\n",
    "# 2) Weight >=50\n",
    "# 3) if both age and weight match the certeria then the user can donate the blood\n",
    "# 4) if age is less than 18 show one msg under age\n",
    "# 5) if weight is less than 50 show one msg under weight \n",
    "# 6) if age doesn't match then it should ask for weight\n",
    "age = int(input(\"Enter your age : \"))\n",
    "if(age>=18):\n",
    "    weight = int(input(\"Enter your weight\"))\n",
    "    if(weight>=50):\n",
    "        print(\"Blood Donate\")\n",
    "    else:\n",
    "        print(\"Under Weight\")\n",
    "else:\n",
    "    print(\"Under Age\")"
   ]
  },
  {
   "cell_type": "markdown",
   "metadata": {},
   "source": [
    "# Loops"
   ]
  },
  {
   "cell_type": "markdown",
   "metadata": {},
   "source": [
    "1. Loop control statements change execution from its normal sequence. \n",
    "2. When execution leaves a scope, all automatic objects that were created in that scope are destroyed"
   ]
  },
  {
   "cell_type": "markdown",
   "metadata": {},
   "source": [
    "There are three types of loops \n",
    "    1. While Loop\n",
    "    2. For Loop\n",
    "    3. Nested for Loop"
   ]
  },
  {
   "cell_type": "markdown",
   "metadata": {},
   "source": [
    "1. While Loop :\n",
    "        In Python, a while loop is used to execute a block of statements repeatedly until a given condition is satisfied. When the condition becomes false, the line immediately after the loop in the program is executed.\n",
    "\n",
    "2. Python While Loop Syntax:\n",
    "    while expression:\n",
    "        statement(s)"
   ]
  },
  {
   "cell_type": "code",
   "execution_count": 70,
   "metadata": {},
   "outputs": [
    {
     "name": "stdout",
     "output_type": "stream",
     "text": [
      "Loop Finished\n",
      "Bye\n"
     ]
    }
   ],
   "source": [
    "# While loop \n",
    "# 5, 9, 12, 14, 15\n",
    "sum = 0\n",
    "n = int(input(\"N : \"))\n",
    "while(n>0):\n",
    "    sum = sum + n\n",
    "    n-=1\n",
    "    print(\"Sum : \", sum)\n",
    "print(\"Bye\")"
   ]
  },
  {
   "cell_type": "markdown",
   "metadata": {},
   "source": [
    "# While Loop With Else Part"
   ]
  },
  {
   "cell_type": "code",
   "execution_count": null,
   "metadata": {},
   "outputs": [],
   "source": [
    "# While loop \n",
    "# 5, 9, 12, 14, 15\n",
    "sum = 0\n",
    "n = int(input(\"N : \"))\n",
    "while(n>0):\n",
    "    sum = sum + n\n",
    "    n-=1\n",
    "    print(\"Sum : \", sum)\n",
    "else : # in python we can use else in while loop\n",
    "    print(\"Loop Finished\")\n",
    "print(\"Bye\")"
   ]
  },
  {
   "cell_type": "markdown",
   "metadata": {},
   "source": [
    "# Simple For Loop"
   ]
  },
  {
   "cell_type": "markdown",
   "metadata": {},
   "source": [
    "For loops are used for sequential traversal. For example: traversing a list or string or array etc. In Python, there is “for in” loop which is similar to foreach loop in other languages. Let us learn how to use for loops in Python for sequential traversals with examples.\n",
    "\n",
    "For Loop Syntax:\n",
    "\n",
    "for iterator_var in sequence:\n",
    "    statements(s)"
   ]
  },
  {
   "cell_type": "code",
   "execution_count": 72,
   "metadata": {},
   "outputs": [
    {
     "name": "stdout",
     "output_type": "stream",
     "text": [
      "Python = 6\n",
      "JAVA = 4\n",
      "Angular = 7\n",
      "Graphic = 7\n"
     ]
    }
   ],
   "source": [
    "# For loop\n",
    "word = [\"Python\",\"JAVA\",\"Angular\",\"Graphic\"]\n",
    "for i in word :\n",
    "    print(i, \"=\", len(i)) # len() is pre-defined function prvoided in python to calculate the lenght of word"
   ]
  },
  {
   "cell_type": "markdown",
   "metadata": {},
   "source": [
    "# Nested For Loop"
   ]
  },
  {
   "cell_type": "markdown",
   "metadata": {},
   "source": [
    "In Python programming language there are two types of loops which are for loop and while loop. Using these loops we can create nested loops in Python. Nested loops mean loops inside a loop."
   ]
  },
  {
   "cell_type": "code",
   "execution_count": 73,
   "metadata": {},
   "outputs": [
    {
     "name": "stdout",
     "output_type": "stream",
     "text": [
      "*\n",
      "**\n",
      "***\n",
      "****\n",
      "*****\n"
     ]
    }
   ],
   "source": [
    "# *\n",
    "# **\n",
    "# ***\n",
    "# ****\n",
    "# *****\n",
    "\n",
    "# range(start point, end point, step(jump))\n",
    "# Iterate over the range from 1 to 5 (inclusive of 1, exclusive of 6)\n",
    "for i in range(1, 6):\n",
    "    # For each value of i, iterate from 0 up to but not including i\n",
    "    for j in range(i):\n",
    "        # Print an asterisk (*) without moving to a new line (end=\"\" prevents a newline character)\n",
    "        print(\"*\", end=\"\")\n",
    "    # After finishing the inner loop (printing stars), move to the next line\n",
    "    print()\n"
   ]
  },
  {
   "cell_type": "code",
   "execution_count": 75,
   "metadata": {},
   "outputs": [
    {
     "name": "stdout",
     "output_type": "stream",
     "text": [
      "*****\n",
      "****\n",
      "***\n",
      "**\n",
      "*\n"
     ]
    }
   ],
   "source": [
    "# Iterate over the range starting from 5 down to 1 (inclusive of 5, exclusive of 0)\n",
    "for i in range(5, 0, -1):\n",
    "    # For each value of i, iterate from 0 up to but not including i\n",
    "    for j in range(i):\n",
    "        # Print an asterisk (*) without moving to a new line (end=\"\" prevents a newline character)\n",
    "        print(\"*\", end=\"\")\n",
    "    # After finishing the inner loop (printing stars), move to the next line\n",
    "    print()\n"
   ]
  },
  {
   "cell_type": "code",
   "execution_count": 88,
   "metadata": {},
   "outputs": [
    {
     "name": "stdout",
     "output_type": "stream",
     "text": [
      "******\n",
      "******\n",
      "******\n",
      "******\n",
      "******\n",
      "******\n"
     ]
    }
   ],
   "source": [
    "a = int(input(\"Enter the value of a : \"))\n",
    "b = int(input(\"Enter the value of b : \"))\n",
    "for i in range(a,b):\n",
    "    for j in range(a,b):\n",
    "        print(\"*\",end=\"\")\n",
    "    print()"
   ]
  },
  {
   "cell_type": "code",
   "execution_count": 91,
   "metadata": {},
   "outputs": [
    {
     "name": "stdout",
     "output_type": "stream",
     "text": [
      "* \n",
      "* * \n",
      "* * * \n",
      "* * * * \n",
      "* * * \n",
      "* * \n",
      "* \n"
     ]
    }
   ],
   "source": [
    "n = int(input(\"enter the value of n : \"))\n",
    "for i in range(n):\n",
    "    print(\"* \" *(i+1))\n",
    "for i in range(n-1):\n",
    "    print(\"* \" *(n-i-1))"
   ]
  },
  {
   "cell_type": "code",
   "execution_count": 94,
   "metadata": {},
   "outputs": [
    {
     "name": "stdout",
     "output_type": "stream",
     "text": [
      "* * * * \n",
      "* * * \n",
      "* * \n",
      "* \n",
      "\n"
     ]
    }
   ],
   "source": [
    "n = int(input(\"enter the value of n : \"))\n",
    "for i in range(n):\n",
    "    print(\"* \" *(n-i-1))\n"
   ]
  },
  {
   "cell_type": "code",
   "execution_count": 104,
   "metadata": {},
   "outputs": [
    {
     "name": "stdout",
     "output_type": "stream",
     "text": [
      "    *\n",
      "   ***\n",
      "  *****\n",
      " *******\n",
      "*********\n"
     ]
    }
   ],
   "source": [
    "n = int(input(\"enter the value of n : \"))\n",
    "for i in range(1, n):\n",
    "    for j in range(1, n - i):\n",
    "        print(' ', end='')\n",
    "    for j in range(0, 2* i -1):\n",
    "        print('*', end='')\n",
    "    print()"
   ]
  },
  {
   "cell_type": "markdown",
   "metadata": {},
   "source": [
    "# Loop Control Statement"
   ]
  },
  {
   "cell_type": "markdown",
   "metadata": {},
   "source": [
    "The loop control statement change the execution of the loop. when the execution leaves the scope, all automatic objects are gets destroyed."
   ]
  },
  {
   "cell_type": "markdown",
   "metadata": {},
   "source": [
    "There are three types of Looping Control Statement \n",
    "    1. Break Statement \n",
    "    2. Continue Statement \n",
    "    3. Pass Statement\n",
    "    "
   ]
  },
  {
   "cell_type": "markdown",
   "metadata": {},
   "source": [
    "1. Break Statement : Terminates the loop statement and transfer execution to the statement immediately following loop "
   ]
  },
  {
   "cell_type": "code",
   "execution_count": 106,
   "metadata": {},
   "outputs": [
    {
     "name": "stdout",
     "output_type": "stream",
     "text": [
      "Current Letter :  P\n",
      "Current Letter :  y\n",
      "Current Letter :  t\n"
     ]
    }
   ],
   "source": [
    "# break statement\n",
    "for letter in \"Python\":\n",
    "    if letter == \"h\":\n",
    "        # here i'm using break statement to break execution \n",
    "        break\n",
    "    print(\"Current Letter : \", letter)"
   ]
  },
  {
   "cell_type": "markdown",
   "metadata": {},
   "source": [
    "2. Continue Statement : Python Continue statement is a loop control statement that forces to execute the next iteration of the loop while skipping the rest of the code inside the loop for the current iteration only, i.e. when the continue statement is executed in the loop, the code inside the loop following the continue statement will be skipped for the current iteration and the next iteration of the loop will begin.\n"
   ]
  },
  {
   "cell_type": "code",
   "execution_count": 105,
   "metadata": {},
   "outputs": [
    {
     "name": "stdout",
     "output_type": "stream",
     "text": [
      "G\n",
      "k\n",
      "s\n",
      "f\n",
      "o\n",
      "r\n",
      "g\n",
      "k\n",
      "s\n"
     ]
    }
   ],
   "source": [
    "# continue statement\n",
    "for var in \"Geeksforgeeks\":\n",
    "\tif var == \"e\":\n",
    "\t\tcontinue # continue statement will skip the e \n",
    "\tprint(var)"
   ]
  },
  {
   "cell_type": "markdown",
   "metadata": {},
   "source": [
    "3. Pass Statement : The Python pass statement is a null statement. But the difference between pass and comment is that comment is ignored by the interpreter whereas pass is not ignored. \n"
   ]
  },
  {
   "cell_type": "code",
   "execution_count": 113,
   "metadata": {},
   "outputs": [],
   "source": [
    "a = 10\n",
    "b = 20\n",
    "\n",
    "if(a<b):\n",
    "    pass\n",
    "else:\n",
    "    print(\"b<a\")\n"
   ]
  },
  {
   "cell_type": "markdown",
   "metadata": {},
   "source": [
    "String : \n",
    "    1. String allow any data type value to be store\n",
    "    2. String in python are surrounded by either single quotation marks, or double quotation marks.\n",
    "    3. String is the collection of character."
   ]
  },
  {
   "cell_type": "markdown",
   "metadata": {},
   "source": [
    "What can be done?\n",
    "    1. Create String\n",
    "    2. Indexing and slicing \n",
    "    3. Apply built-in methods"
   ]
  },
  {
   "cell_type": "code",
   "execution_count": 114,
   "metadata": {},
   "outputs": [
    {
     "name": "stdout",
     "output_type": "stream",
     "text": [
      "hello world\n",
      "hello world\n"
     ]
    }
   ],
   "source": [
    "# single quote string\n",
    "print('hello world')\n",
    "\n",
    "# double quote string \n",
    "print(\"hello world\")"
   ]
  },
  {
   "cell_type": "markdown",
   "metadata": {},
   "source": [
    "# Multiline String"
   ]
  },
  {
   "cell_type": "code",
   "execution_count": 115,
   "metadata": {},
   "outputs": [
    {
     "name": "stdout",
     "output_type": "stream",
     "text": [
      "Python is booming in market,\n",
      "python is smart language,\n",
      "python is used in AI, Machine Learning, Data Science\n",
      "\n"
     ]
    }
   ],
   "source": [
    "a = \"\"\"Python is booming in market,\n",
    "python is smart language,\n",
    "python is used in AI, Machine Learning, Data Science\n",
    "\"\"\"\n",
    "print(a)"
   ]
  },
  {
   "cell_type": "markdown",
   "metadata": {},
   "source": [
    "# Update String"
   ]
  },
  {
   "cell_type": "code",
   "execution_count": 117,
   "metadata": {},
   "outputs": [
    {
     "name": "stdout",
     "output_type": "stream",
     "text": [
      "Hello World\n",
      "The length of a is :  11\n",
      "Update String :  Hello Python\n"
     ]
    }
   ],
   "source": [
    "a = \"Hello World\"\n",
    "print(a)\n",
    "print(\"The length of a is : \", len(a))\n",
    "print(\"Update String : \", a[:6]+\"Python\" )"
   ]
  },
  {
   "cell_type": "markdown",
   "metadata": {},
   "source": [
    "# String Slicing"
   ]
  },
  {
   "cell_type": "code",
   "execution_count": 121,
   "metadata": {},
   "outputs": [
    {
     "name": "stdout",
     "output_type": "stream",
     "text": [
      "Index 1 :  e\n",
      "Index between 1 to 6 :  ello \n",
      "Index till 6 :  Hello \n",
      "Last Value :  d\n"
     ]
    }
   ],
   "source": [
    "a =  \"Hello World\"\n",
    "# Access the value of index 1 \n",
    "# Index of value always start with 0\n",
    "print(\"Index 1 : \", a[1])\n",
    "\n",
    "# Access the value between 1 to 6\n",
    "print(\"Index between 1 to 6 : \", a[1:6])\n",
    "\n",
    "# Access the value till index 6\n",
    "print(\"Index till 6 : \", a[:6])\n",
    "\n",
    "# Access the last value from the string \n",
    "print(\"Last Value : \", a[-1])"
   ]
  },
  {
   "cell_type": "markdown",
   "metadata": {},
   "source": [
    "# String In-builds Methods"
   ]
  },
  {
   "cell_type": "code",
   "execution_count": 122,
   "metadata": {},
   "outputs": [
    {
     "name": "stdout",
     "output_type": "stream",
     "text": [
      "Hello welcome to the world of python\n"
     ]
    }
   ],
   "source": [
    "# Capitalize() : This method convert the first character in string \n",
    "a = \"hello welcome to the world of python\"\n",
    "x = a.capitalize()\n",
    "print(x)"
   ]
  },
  {
   "cell_type": "code",
   "execution_count": 123,
   "metadata": {},
   "outputs": [
    {
     "name": "stdout",
     "output_type": "stream",
     "text": [
      "hello and welcom to the world of python\n"
     ]
    }
   ],
   "source": [
    "# Casefold() : This method convert all the capital letter into small\n",
    "a = \"Hello and Welcom to the World Of Python\"\n",
    "x = a.casefold()\n",
    "print(x)"
   ]
  },
  {
   "cell_type": "code",
   "execution_count": 124,
   "metadata": {},
   "outputs": [
    {
     "name": "stdout",
     "output_type": "stream",
     "text": [
      "python\n",
      "       python       \n"
     ]
    }
   ],
   "source": [
    "# Center() : This is use to bring your string into center\n",
    "a = \"python\"\n",
    "print(a)\n",
    "x = a.center(20)\n",
    "# update using center method\n",
    "print(x)"
   ]
  },
  {
   "cell_type": "code",
   "execution_count": 125,
   "metadata": {},
   "outputs": [
    {
     "name": "stdout",
     "output_type": "stream",
     "text": [
      "2\n"
     ]
    }
   ],
   "source": [
    "# Count() : This method is used to count the repeated word in string \n",
    "a = \"I love python, python is a smart language\"\n",
    "x = a.count(\"python\")\n",
    "print(x)"
   ]
  },
  {
   "cell_type": "markdown",
   "metadata": {},
   "source": [
    "# How to compare String"
   ]
  },
  {
   "cell_type": "code",
   "execution_count": 126,
   "metadata": {},
   "outputs": [
    {
     "name": "stdout",
     "output_type": "stream",
     "text": [
      "True\n"
     ]
    }
   ],
   "source": [
    "str1 = \"Apple\"\n",
    "str2 = \"Apple\"\n",
    "result = str1==str2\n",
    "print(result)"
   ]
  },
  {
   "cell_type": "code",
   "execution_count": 129,
   "metadata": {},
   "outputs": [
    {
     "name": "stdout",
     "output_type": "stream",
     "text": [
      "True\n"
     ]
    }
   ],
   "source": [
    "str1 = \"Mango\"\n",
    "str2 = \"Python\"\n",
    "# result = str1 < str2\n",
    "result = str1 == str2\n",
    "print(result)"
   ]
  },
  {
   "cell_type": "code",
   "execution_count": 131,
   "metadata": {},
   "outputs": [
    {
     "name": "stdout",
     "output_type": "stream",
     "text": [
      "True\n"
     ]
    }
   ],
   "source": [
    "str1 = 'A'\n",
    "str2 = 'B'\n",
    "str3 = 'C'\n",
    "result = str2 < str3\n",
    "print(result)"
   ]
  },
  {
   "cell_type": "markdown",
   "metadata": {},
   "source": [
    "# Assignment\n",
    "    Question 1.\n",
    "        Write a program to accept a list from the user and print the alternate element of list\n",
    "    Question 2. \n",
    "        Write a program to remove the element \"3\" from the given list [1,2,3,4,5,6].\n",
    "    Question 3. \n",
    "        Write a program to insert the element \"Python\" on index 2 in the given list [\"Java\", \"Php\", \".Net\", \"Angular\"]\n",
    "    Question 4. \n",
    "        Write a program to add element in list using for loop.\n",
    "    Question 5. \n",
    "        Write a program to perform slicing with given tuple (\"Python\",1,2,3,\"Java\",'A','B') with following slicing point:\n",
    "            1. print alternative value of tuple.\n",
    "            2. print value between 1 to 5.\n",
    "            3. print the last value of tuple.\n",
    "    Question 6. \n",
    "        Write a program to count element in given tuple(1,2,3,4,5,6,7,8,).\n",
    "    Question 7.\n",
    "        Write a program to convert tuple into list."
   ]
  },
  {
   "cell_type": "code",
   "execution_count": 18,
   "metadata": {},
   "outputs": [
    {
     "data": {
      "text/plain": [
       "[1, 2, 3, 4]"
      ]
     },
     "execution_count": 18,
     "metadata": {},
     "output_type": "execute_result"
    }
   ],
   "source": [
    "# Question 1\n",
    "\n",
    "li=[]\n",
    "for i in range(4):\n",
    "    n = int(input(\"Enter the value of n : \"))\n",
    "    li.append(n)\n",
    "\n",
    "li"
   ]
  },
  {
   "cell_type": "code",
   "execution_count": 19,
   "metadata": {},
   "outputs": [
    {
     "name": "stdout",
     "output_type": "stream",
     "text": [
      "[1, 2, 3, 4]\n"
     ]
    }
   ],
   "source": [
    "# Question 1\n",
    "# Initialize an empty list to store the input values\n",
    "li = []\n",
    "\n",
    "# Use a for loop to repeat the following block of code user input times\n",
    "a = int(input(\"Enter the value of a : \"))\n",
    "for i in range(a):\n",
    "    # Prompt the user to enter a value and convert the input to an integer\n",
    "    n = int(input(\"Enter the value of n : \"))\n",
    "    \n",
    "    # Append the entered integer to the list 'li'\n",
    "    li.append(n)\n",
    "\n",
    "# Output the final list containing all the entered values\n",
    "print(li)\n"
   ]
  }
 ],
 "metadata": {
  "kernelspec": {
   "display_name": "Python 3",
   "language": "python",
   "name": "python3"
  },
  "language_info": {
   "codemirror_mode": {
    "name": "ipython",
    "version": 3
   },
   "file_extension": ".py",
   "mimetype": "text/x-python",
   "name": "python",
   "nbconvert_exporter": "python",
   "pygments_lexer": "ipython3",
   "version": "3.12.4"
  }
 },
 "nbformat": 4,
 "nbformat_minor": 2
}
